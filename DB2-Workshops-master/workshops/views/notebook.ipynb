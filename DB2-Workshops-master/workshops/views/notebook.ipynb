{
    "metadata": {
        "kernelspec": {
            "name": "SQL",
            "display_name": "SQL",
            "language": "sql"
        },
        "language_info": {
            "name": "sql",
            "version": ""
        }
    },
    "nbformat_minor": 2,
    "nbformat": 4,
    "cells": [
        {
            "cell_type": "markdown",
            "source": [
                "# Views\r\n",
                "## Definition\r\n",
                "- A saved `SELECT` statement\r\n",
                "- A view can be seen as a **virtual table** composed of other tables & views\r\n",
                "- **No data is stored in the view itself**\r\n",
                "\r\n",
                "## Used for\r\n",
                "- Hide complexity of the database\r\n",
                "- Hide complex database design make large and complex queries accessible and reusable\r\n",
                "- Can be used as a partial solution for complex problems\r\n",
                "- Used for securing data access: revoke access to tables and grant access to customised views. \r\n",
                "- Organise data for export to other applications\r\n",
                "\r\n",
                "## Caveats\r\n",
                "-  At each referral the underlying SELECT is **re-executed**, which could cause performance issues of it's overused.\r\n",
                "- `ORDER BY` in a `View` is ... **worthless**.\r\n",
                "\r\n",
                "## Creating a view\r\n",
                "\r\n",
                "\r\n",
                ""
            ],
            "metadata": {
                "azdata_cell_guid": "52f79beb-ea02-4490-8384-44ea8c1ff3ee"
            }
        },
        {
            "cell_type": "code",
            "source": [
                "CREATE VIEW vw_product_quantity_sold_to_customer AS\r\n",
                "-- Nothing new from this point, a simple SELECT Statement.\r\n",
                "SELECT \r\n",
                " ProductId\r\n",
                ",CustomerName\r\n",
                ",SUM(Quantity) AS 'Total Amount' \r\n",
                "FROM Customer \r\n",
                "    JOIN Orders [Order]             ON [Order].CustomerId = Customer.CustomerId \r\n",
                "\tJOIN OrdersDetail OrderDetail   ON [Order].OrderId = OrderDetail.OrderId \r\n",
                "GROUP BY \r\n",
                " ProductId\r\n",
                ",CustomerName"
            ],
            "metadata": {
                "azdata_cell_guid": "be5daeb9-3a90-43bb-9308-684a895ccaae"
            },
            "outputs": [],
            "execution_count": null
        },
        {
            "cell_type": "markdown",
            "source": [
                "# Query a view"
            ],
            "metadata": {
                "azdata_cell_guid": "e2551a4f-13b6-4f0b-a46c-d41eed3d1f9a"
            }
        },
        {
            "cell_type": "code",
            "source": [
                "SELECT * \r\n",
                "FROM vw_product_quantity_sold_to_customer"
            ],
            "metadata": {
                "azdata_cell_guid": "2f4040b9-a447-47d1-85eb-1cfdb67b68df"
            },
            "outputs": [],
            "execution_count": null
        },
        {
            "cell_type": "markdown",
            "source": [
                "# Delete a view\r\n",
                "- Has **no** implications on the underlying data, it's just... a saved  `SELECT` statement."
            ],
            "metadata": {
                "azdata_cell_guid": "7a6f209d-4519-4b84-9236-b4e07a690736"
            }
        },
        {
            "cell_type": "markdown",
            "source": [
                "# Alter a view\r\n",
                "\"But what if I want to change the `SELECT` statement in my view?,,\r\n",
                "\r\n",
                "\"Good question, billy!\""
            ],
            "metadata": {
                "azdata_cell_guid": "05b539a3-1855-4c9b-95c3-4363959e0d69"
            }
        },
        {
            "cell_type": "code",
            "source": [
                "ALTER VIEW vw_product_quantity_sold_to_customer AS\r\n",
                "-- \r\n",
                "SELECT \r\n",
                " ProductId\r\n",
                ",CustomerName\r\n",
                ",SUM(Quantity) AS 'Total Quanties' -- Change is here! \r\n",
                "FROM Customer \r\n",
                "    JOIN Orders [Order]             ON [Order].CustomerId = Customer.CustomerId \r\n",
                "\tJOIN OrdersDetail OrderDetail   ON [Order].OrderId = OrderDetail.OrderId \r\n",
                "GROUP BY \r\n",
                " ProductId\r\n",
                ",CustomerName"
            ],
            "metadata": {
                "azdata_cell_guid": "ae8076da-0417-471e-bcd1-b8790b9e50f5"
            },
            "outputs": [],
            "execution_count": null
        },
        {
            "cell_type": "markdown",
            "source": [
                "# Every complex problem, can be split into multiple smaller problems."
            ],
            "metadata": {
                "azdata_cell_guid": "ccba10f7-1fc0-4a0b-ad5a-e0ad877a0048"
            }
        },
        {
            "cell_type": "markdown",
            "source": [
                "## The monolith\r\n",
                "What does the following subquery do?"
            ],
            "metadata": {
                "azdata_cell_guid": "e319932b-9186-42f7-9817-a20e198f91eb"
            }
        },
        {
            "cell_type": "code",
            "source": [
                "-- Insert Subquery here."
            ],
            "metadata": {
                "azdata_cell_guid": "4faef5d1-59df-472e-82b0-26505a788014"
            },
            "outputs": [],
            "execution_count": null
        },
        {
            "cell_type": "markdown",
            "source": [
                "# The Purchases"
            ],
            "metadata": {
                "azdata_cell_guid": "657ab5f2-02a5-432a-9ff7-a9c070b76d60"
            }
        },
        {
            "cell_type": "code",
            "source": [
                "USE Xtreme;\r\n",
                "GO\r\n",
                "CREATE VIEW vw_sale AS \r\n",
                "    SELECT \r\n",
                "    FORMAT(OrderDate,'yyyy-MM') AS 'Month'\r\n",
                "    ,SUM(OrderAmount)  AS 'Total' \r\n",
                "    FROM Orders \r\n",
                "    GROUP BY FORMAT(OrderDate,'yyyy-MM');"
            ],
            "metadata": {
                "azdata_cell_guid": "ec320e19-5ede-400d-8e58-a1af0027bfb1",
                "tags": []
            },
            "outputs": [],
            "execution_count": null
        },
        {
            "cell_type": "markdown",
            "source": [
                "# The Sales"
            ],
            "metadata": {
                "azdata_cell_guid": "4669c893-d5cb-42a5-b3bf-2ceef56cd9ec"
            }
        },
        {
            "cell_type": "code",
            "source": [
                "USE Xtreme;\r\n",
                "GO;\r\n",
                "CREATE VIEW vw_purchase AS\r\n",
                "    SELECT\r\n",
                "    FORMAT(OrderDate,'yyyy-MM') AS 'Month' \r\n",
                "    ,SUM(Product.Price * Purchase.UnitsOnOrder) AS 'Total' \r\n",
                "    FROM Purchases Purchase\r\n",
                "        JOIN Product on Purchase.ProductId = Product.ProductId\r\n",
                "    GROUP BY FORMAT(OrderDate,'yyyy-MM');"
            ],
            "metadata": {
                "azdata_cell_guid": "243149e6-e014-4859-b67e-8db3e5a10f6c"
            },
            "outputs": [],
            "execution_count": null
        },
        {
            "cell_type": "markdown",
            "source": [
                "# The query"
            ],
            "metadata": {
                "azdata_cell_guid": "f6152cf9-957d-49cc-bc82-9c5722320889"
            }
        },
        {
            "cell_type": "code",
            "source": [
                "SELECT \r\n",
                " ISNULL(sale.Month, purchase.month) AS 'Month'\r\n",
                ",ISNULL(sale.Total,0) - ISNULL(purchase.total,0) AS 'MARGIN'\r\n",
                "FROM vw_sale sale\r\n",
                "    FULL JOIN vw_purchase purchase on sale.Month = Purchase.Month\r\n",
                "ORDER BY 1; -- AHA, an ORDER BY clause!\r\n",
                ""
            ],
            "metadata": {
                "azdata_cell_guid": "7aa0ec1f-0f71-44bb-bc79-27a159c1b1eb",
                "tags": [
                    "hide_input"
                ]
            },
            "outputs": [],
            "execution_count": null
        },
        {
            "cell_type": "markdown",
            "source": [
                "\"A View is only used to read data\"\r\n",
                "- Nope, you can update, delete rows using a view.\r\n",
                "- But there are some restriction:\r\n",
                "  - Has no distinct or top clause in the select statement\r\n",
                "  - Has no statistical functions in the select statement\r\n",
                "  - Has no calculated value in the select statement\r\n",
                "  - Has no group by in the select statement\r\n",
                "  - Does not use a union\r\n",
                "  - You can only update one table at once\r\n",
                "\r\n",
                "\"Then why would you use it?\"\r\n",
                "- Security\r\n",
                "- Ease of use"
            ],
            "metadata": {
                "azdata_cell_guid": "9617bbfe-0797-4f6e-9670-b2248db5815b"
            }
        },
        {
            "cell_type": "markdown",
            "source": [
                "# Updatable View"
            ],
            "metadata": {
                "azdata_cell_guid": "595659ab-c010-4e40-8ec2-0179d796cf53"
            }
        },
        {
            "cell_type": "code",
            "source": [
                "CREATE VIEW vw_updatable AS\r\n",
                "SELECT\r\n",
                " ProductId\r\n",
                ",ProductName\r\n",
                "FROM Product\r\n",
                "WHERE ProductName LIKE 'Guardian%'\r\n",
                "-- WITH CHECK OPTION"
            ],
            "metadata": {
                "azdata_cell_guid": "63a7ffac-543c-4cb8-a383-232169564491"
            },
            "outputs": [],
            "execution_count": 37
        },
        {
            "cell_type": "code",
            "source": [
                "SELECT * FROM vw_updatable"
            ],
            "metadata": {
                "azdata_cell_guid": "22e9ac39-082d-4afe-9a13-dd3699884be1"
            },
            "outputs": [],
            "execution_count": 38
        },
        {
            "cell_type": "code",
            "source": [
                "BEGIN TRANSACTION\r\n",
                "    INSERT INTO vw_updatable(ProductId, ProductName)\r\n",
                "    VALUES(123456789,'Test')\r\n",
                "ROLLBACK"
            ],
            "metadata": {
                "azdata_cell_guid": "abbde123-fffb-4717-9241-30d2135da2fc"
            },
            "outputs": [],
            "execution_count": 42
        }
    ]
}