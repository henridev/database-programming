{
    "metadata": {
        "kernelspec": {
            "name": "SQL",
            "display_name": "SQL",
            "language": "sql"
        },
        "language_info": {
            "name": "sql",
            "version": ""
        }
    },
    "nbformat_minor": 2,
    "nbformat": 4,
    "cells": [
        {
            "cell_type": "markdown",
            "source": [
                "# Programming in the datbase\r\n",
                "1. Output\r\n",
                "    - PRINT\r\n",
                "    - SELECT\r\n",
                "2. Variables\r\n",
                "3. Control-of-flow\r\n",
                "    - IF | ELSE\r\n",
                "    - WHILE\r\n",
                "4. Stored Procedures\r\n",
                "5. User Defined Functions\r\n",
                "    - Table Valued\r\n",
                "    - Scalar"
            ],
            "metadata": {
                "azdata_cell_guid": "61a9a5a0-34c5-4e95-bd31-61c1f3647d10"
            }
        },
        {
            "cell_type": "markdown",
            "source": [
                "## Output\r\n",
                "To display some text you can use the `SELECT` and `PRINT` statement.\r\n",
                "> Caution: There is a difference between these two statements."
            ],
            "metadata": {
                "azdata_cell_guid": "6a41a69c-5b4c-41de-8043-2963b240f782"
            }
        },
        {
            "cell_type": "code",
            "source": [
                "SELECT 'Donald Trump'; -- Notice the difference between these 2.\r\n",
                "PRINT 'Donald Trump';"
            ],
            "metadata": {
                "azdata_cell_guid": "60a0bb00-4e28-4bc5-a801-503e01a0313e",
                "tags": []
            },
            "outputs": [],
            "execution_count": null
        },
        {
            "cell_type": "markdown",
            "source": [
                "## Variables\r\n",
                "Variables are declared in the body of a batch or procedure with the `DECLARE` statement and are assigned values by using either a `SET` or `SELECT` statement. After declaration, all variables are initialized as `NULL`, unless a value is provided as part of the declaration.\r\n",
                "> For assigning variables, we recommend that you use `SET` `@local_variable` instead of `SELECT` `@local_variable`, since `SET` is an ANSI standard and `SELECT` for this type of operation isn't.\r\n",
                "\r\n",
                "[Read More](https://docs.microsoft.com/en-us/sql/t-sql/language-elements/variables-transact-sql?view=sql-server-ver15)\r\n",
                "\r\n",
                "[Why use SET instead of SELECT](https://www.c-sharpcorner.com/UploadFile/ff2f08/set-vs-select-when-assigning-values-to-variables-in-sql-serv/)"
            ],
            "metadata": {
                "azdata_cell_guid": "bc20942e-d5c1-4b4e-9f42-81d8b068fe9b"
            }
        },
        {
            "cell_type": "code",
            "source": [
                "-- Declaring a simple integer variable called 'myVariableName'\r\n",
                "DECLARE @myVariableName INT\r\n",
                "-- Declaring a simple NVARCHAR(50) variable called 'myVariableName2'\r\n",
                "DECLARE @myVariableName2 NVARCHAR(50)"
            ],
            "metadata": {
                "azdata_cell_guid": "b271d652-a96a-4d97-af01-20eea80885f9",
                "tags": []
            },
            "outputs": [],
            "execution_count": null
        },
        {
            "cell_type": "code",
            "source": [
                "DECLARE @firstName NVARCHAR(50)\r\n",
                "SET @firstName = 'Donald'\r\n",
                "\r\n",
                "DECLARE @lastName NVARCHAR(50) = 'Trump' -- Declaration with initialization\r\n",
                "\r\n",
                "-- Output\r\n",
                "PRINT @firstName + ' ' + @lastName "
            ],
            "metadata": {
                "azdata_cell_guid": "21aaa6c1-24bb-4319-89f9-bb6c5f26ad8f",
                "tags": []
            },
            "outputs": [],
            "execution_count": null
        },
        {
            "cell_type": "code",
            "source": [
                "DECLARE\r\n",
                " @firstName NVARCHAR(50) = 'Donald'\r\n",
                ",@lastName NVARCHAR(50) = 'Trump'\r\n",
                ",@birthday DATE = '1946-06-14'\r\n",
                "\r\n",
                "PRINT @firstName + ' ' + @lastName + ' is born at ' + CONVERT(VARCHAR,@birthday,103) -- 103 is typical for dd/MM/yyyy dateformat"
            ],
            "metadata": {
                "azdata_cell_guid": "916bf71a-fe26-4337-a5f8-b09c0c0221ff",
                "tags": []
            },
            "outputs": [],
            "execution_count": null
        },
        {
            "cell_type": "code",
            "source": [
                "-- Retrieve the maximum OrderAmount of all orders and store the value in a variable.\r\n",
                "DECLARE @max DECIMAL(7,2)\r\n",
                "SET @max = (SELECT MAX(OrderAmount) FROM Orders) -- Notice the brackets.\r\n",
                "PRINT @max\r\n",
                "-- SELECT @max -- This returns a Virtual Table"
            ],
            "metadata": {
                "azdata_cell_guid": "5e3cf4b2-de4a-417d-87f8-632a9734694f",
                "tags": []
            },
            "outputs": [],
            "execution_count": null
        },
        {
            "cell_type": "markdown",
            "source": [
                "# Control-of-flow\r\n",
                "There are multiple Transact-SQL control-of-flow keywords but we'll discuss the following:\r\n",
                "- IF...ELSE\r\n",
                "- BEGIN...END\r\n",
                "    - See IF...ELSE\r\n",
                "- RETURN\r\n",
                "    - See Stored Procedures\r\n",
                "- THROW\r\n",
                "    - See Deep Dive in the [workshop](https://github.com/HOGENT-Databases/DB2-Workshops/blob/master/workshops/stored-procedures/stored-procedures.md#Deep-Dive-Exception-Handling)\r\n",
                "- TRY...CATCH\r\n",
                "    - See Deep Dive in the [workshop](https://github.com/HOGENT-Databases/DB2-Workshops/blob/master/workshops/stored-procedures/stored-procedures.md#Deep-Dive-Exception-Handling)\r\n",
                "- WHILE\r\n",
                "\r\n",
                "[Read More](https://docs.microsoft.com/en-us/sql/t-sql/language-elements/if-else-transact-sql?view=sql-server-ver15)"
            ],
            "metadata": {
                "azdata_cell_guid": "7e302677-9d27-4b29-81ba-ed93c9fbdd83"
            }
        },
        {
            "cell_type": "markdown",
            "source": [
                "## IF | ELSE\r\n",
                "Imposes conditions on the execution of a Transact-SQL statement. The Transact-SQL statement that follows an `IF` keyword and its condition is executed if the condition is satisfied: the Boolean expression returns `TRUE`. The optional `ELSE` keyword introduces another Transact-SQL statement that is executed when the `IF` condition is not satisfied: the Boolean expression returns `FALSE`. \r\n",
                "\r\n",
                "[Read More](https://docs.microsoft.com/en-us/sql/t-sql/language-elements/if-else-transact-sql?view=sql-server-ver15)"
            ],
            "metadata": {
                "azdata_cell_guid": "af6b864b-d6bc-4107-a888-9ced17b3b664"
            }
        },
        {
            "cell_type": "code",
            "source": [
                "DECLARE @dayName VARCHAR(100) = DATENAME(WEEKDAY, GETDATE());\r\n",
                "PRINT 'Current Day''s Name :' + @dayName\r\n",
                "IF @dayName IN ('Saturday', 'Sunday')\r\n",
                "    PRINT @dayName + ' is part of the weekend.';\r\n",
                "    -- It's good practise to always use BEGIN and END statements.\r\n",
                "ELSE \r\n",
                "    PRINT @dayName + ' is a normal working day...';\r\n",
                "       "
            ],
            "metadata": {
                "azdata_cell_guid": "70197129-31d8-49a0-b9f5-988b6f3edf1b",
                "tags": []
            },
            "outputs": [],
            "execution_count": null
        },
        {
            "cell_type": "code",
            "source": [
                "DECLARE @birthday DATE = '1946-06-14'\r\n",
                "IF DATEPART(YEAR,@birthday) < 2000 \r\n",
                "    BEGIN\r\n",
                "        PRINT 'He''s from the previous century';\r\n",
                "    END\r\n",
                "ELSE\r\n",
                "    BEGIN\r\n",
                "        PRINT 'He''s from the current century';\r\n",
                "    END"
            ],
            "metadata": {
                "azdata_cell_guid": "fd4ea9be-60db-4265-a67c-fcfea2e6065f",
                "tags": []
            },
            "outputs": [],
            "execution_count": null
        },
        {
            "cell_type": "code",
            "source": [
                "DECLARE \r\n",
                " @productId INTEGER  = 1101\r\n",
                ",@averagePrice DECIMAL(7,2) = (SELECT AVG(Price) FROM Product)  \r\n",
                ",@productPrice DECIMAL(7,2)\r\n",
                ",@productName VARCHAR(100)\r\n",
                "\r\n",
                "PRINT 'The average price is ' + CONVERT(VARCHAR,@averagePrice)\r\n",
                "SELECT \r\n",
                " @productName = Product.ProductName\r\n",
                ",@productPrice = Product.Price\r\n",
                "FROM Product\r\n",
                "IF @productPrice < @averagePrice\r\n",
                "    BEGIN\r\n",
                "        SELECT @productId       AS ProductId\r\n",
                "            ,@productPrice    AS Price\r\n",
                "            ,'Below average'  AS Remark\r\n",
                "    END\r\n",
                "ELSE  \r\n",
                "    BEGIN\r\n",
                "        SELECT @productId       AS ProductId\r\n",
                "            ,@productPrice    AS Price\r\n",
                "            ,'Above average'  AS Remark\r\n",
                "    END"
            ],
            "metadata": {
                "azdata_cell_guid": "aef1d4a2-b56e-4a78-b798-646c0699aa75",
                "tags": []
            },
            "outputs": [],
            "execution_count": null
        },
        {
            "cell_type": "markdown",
            "source": [
                "## WHILE\r\n",
                "Sets a condition for the repeated execution of an SQL statement or statement block. The statements are executed repeatedly as long as the specified condition is true. The execution of statements in the `WHILE` loop can be controlled from inside the loop with the `BREAK` and `CONTINUE` keywords. Basically it's the same as a `WHILE` loop in any other 3rd genration language (3GL, for example Java, C#,...)\r\n",
                "> Caution: Using `BREAK` or `CONTINUE` can make your code less readable.\r\n",
                "\r\n",
                "[Read More](https://docs.microsoft.com/en-us/sql/t-sql/language-elements/while-transact-sql?view=sql-server-ver15)\r\n",
                ""
            ],
            "metadata": {
                "azdata_cell_guid": "9e5d9b5e-f759-4c8f-ae70-9b07b64f35fd"
            }
        },
        {
            "cell_type": "code",
            "source": [
                "DECLARE @counter INT = 0;\r\n",
                "\r\n",
                "WHILE @counter < 10\r\n",
                "BEGIN\r\n",
                "    SET @counter +=1\r\n",
                "    PRINT @counter\r\n",
                "END"
            ],
            "metadata": {
                "azdata_cell_guid": "23465a6e-c161-4063-8561-208721006d2e",
                "tags": []
            },
            "outputs": [],
            "execution_count": null
        },
        {
            "cell_type": "markdown",
            "source": [
                "# Stored Procedures\r\n",
                "A stored procedure in SQL Server is a group of one or more Transact-SQL statements. Procedures resemble constructs in other programming languages because they can:\r\n",
                "- Accept input parameters and return multiple values in the form of output parameters to the calling program.\r\n",
                "- Contain programming statements that perform operations in the database. These include calling other procedures.\r\n",
                "- Return a status value to a calling program to indicate success or failure (and the reason for failure).\r\n",
                "\r\n",
                "\r\n",
                "[Read More](https://docs.microsoft.com/en-us/sql/relational-databases/stored-procedures/stored-procedures-database-engine?view=sql-server-ver15)\r\n",
                ""
            ],
            "metadata": {
                "azdata_cell_guid": "5c28de6e-3e9e-470a-8738-df80c15231f4"
            }
        },
        {
            "cell_type": "markdown",
            "source": [
                "\r\n",
                "## Case\r\n",
                "For our business we'd like to see which products are out of stock. So we can make sure to order some extra in the next delivery run. "
            ],
            "metadata": {
                "azdata_cell_guid": "cf6e7731-e914-49d9-b182-a3183bfdf44f"
            }
        },
        {
            "cell_type": "markdown",
            "source": [
                "## How does the data look like?\r\n",
                "First of all we need to know what the rows in the tables `Product` and `Supplier` contain."
            ],
            "metadata": {
                "azdata_cell_guid": "910ca28f-cb57-48bb-b1a1-3b30aef64619"
            }
        },
        {
            "cell_type": "code",
            "source": [
                "-- Product Table Example\r\n",
                "SELECT TOP 3 * FROM Product\r\n",
                "-- Supplier Table Example\r\n",
                "SELECT TOP 3 * FROM Supplier"
            ],
            "metadata": {
                "azdata_cell_guid": "cdf3b790-2b55-4620-a466-a344bbd75263",
                "tags": []
            },
            "outputs": [],
            "execution_count": null
        },
        {
            "cell_type": "markdown",
            "source": [
                "The query that could tackle this problem is the one below."
            ],
            "metadata": {
                "azdata_cell_guid": "b419a953-3de1-4e20-bd7b-bdb3964a2cb6"
            }
        },
        {
            "cell_type": "code",
            "source": [
                "SELECT\r\n",
                "    ProductID as ID,\r\n",
                "    ProductName as Name,\r\n",
                "    UnitsInStock as Stock\r\n",
                "FROM Product\r\n",
                "WHERE UnitsInStock < 250"
            ],
            "metadata": {
                "azdata_cell_guid": "62ce3e63-2b1d-44d1-9d22-0aa92d8cc5e7",
                "tags": []
            },
            "outputs": [],
            "execution_count": null
        },
        {
            "cell_type": "markdown",
            "source": [
                "Since this is logic we'd like to reuse we can use a stored procedure and store it as a Database Object.\r\n",
                "> Note that a function or a view can also be used in this particular case."
            ],
            "metadata": {
                "azdata_cell_guid": "0206d6ad-0e7f-48b0-84ba-ef88cc878937"
            }
        },
        {
            "cell_type": "markdown",
            "source": [
                "## Create \r\n",
                "### Syntax\r\n",
                "```sql\r\n",
                "CREATE PROCEDURE <proc_name> [parameter declaration] \r\n",
                "AS\r\n",
                "<sql_statements> \r\n",
                "```\r\n",
                ""
            ],
            "metadata": {
                "azdata_cell_guid": "13cb4ba0-c58d-4c90-85aa-b9c2afac5c41"
            }
        },
        {
            "cell_type": "code",
            "source": [
                "CREATE PROCEDURE GetProductsOutOfStock\r\n",
                "AS\r\n",
                "SELECT\r\n",
                "    ProductID as ID,\r\n",
                "    ProductName as Name,\r\n",
                "    UnitsInStock as Stock\r\n",
                "FROM Product\r\n",
                "WHERE UnitsInStock < 250"
            ],
            "metadata": {
                "azdata_cell_guid": "5f1c7cbb-7005-4114-9cf3-a267dde0b19b",
                "tags": []
            },
            "outputs": [],
            "execution_count": null
        },
        {
            "cell_type": "markdown",
            "source": [
                "## Execute the procedure"
            ],
            "metadata": {
                "azdata_cell_guid": "7599964c-51cf-49db-b487-ca9a871ac324"
            }
        },
        {
            "cell_type": "code",
            "source": [
                "EXECUTE GetProductsOutOfStock\r\n",
                "-- EXEC is an alias for EXECUTE"
            ],
            "metadata": {
                "azdata_cell_guid": "b3904482-ed5b-4221-8c72-7012e07e14d5",
                "tags": []
            },
            "outputs": [],
            "execution_count": null
        },
        {
            "cell_type": "markdown",
            "source": [
                "## Delete a stored procedure\r\n",
                ""
            ],
            "metadata": {
                "azdata_cell_guid": "8bce1784-df0b-4d6f-993f-ba25f9cc35f8"
            }
        },
        {
            "cell_type": "code",
            "source": [
                "DROP PROCEDURE GetProductsOutOfStock  "
            ],
            "metadata": {
                "azdata_cell_guid": "e9e83ea8-f988-4dfd-a986-58dc8979b811",
                "tags": []
            },
            "outputs": [],
            "execution_count": null
        },
        {
            "cell_type": "markdown",
            "source": [
                "## Change a stored procedure\r\n",
                "We only want to see which products are out of stock if the `UnitsInStock` is less than `100` instead of `250`"
            ],
            "metadata": {
                "azdata_cell_guid": "7fe95fd2-38cb-428e-8732-b5fe577f9bc9"
            }
        },
        {
            "cell_type": "code",
            "source": [
                "ALTER PROCEDURE GetProductsOutOfStock\r\n",
                "AS\r\n",
                "SELECT\r\n",
                "    ProductID as ID,\r\n",
                "    ProductName as Name,\r\n",
                "    UnitsInStock as Stock\r\n",
                "FROM Product\r\n",
                "WHERE UnitsInStock < 100"
            ],
            "metadata": {
                "azdata_cell_guid": "e558aa34-8f41-4f61-b3a7-08ecc9917351",
                "tags": []
            },
            "outputs": [],
            "execution_count": null
        },
        {
            "cell_type": "markdown",
            "source": [
                "## Using input parameters\r\n",
                "Since we only want to see products of a certain supplier, we'll add an `input` parameter. Since we're using parameters, a view can no longer be used."
            ],
            "metadata": {
                "azdata_cell_guid": "effeb883-b971-4659-a3cf-65ff4376849e"
            }
        },
        {
            "cell_type": "code",
            "source": [
                "ALTER PROCEDURE GetProductsOutOfStock \r\n",
                "    @supplierId INT\r\n",
                "AS\r\n",
                "SELECT\r\n",
                "    ProductID as ID,\r\n",
                "    ProductName as Name,\r\n",
                "    UnitsInStock as Stock\r\n",
                "FROM Product\r\n",
                "WHERE   UnitsInStock < 100\r\n",
                "AND     SupplierId = @supplierId"
            ],
            "metadata": {
                "azdata_cell_guid": "7d60aee4-4d27-4d0b-a1d6-9ac6b01552fa",
                "tags": []
            },
            "outputs": [],
            "execution_count": null
        },
        {
            "cell_type": "markdown",
            "source": [
                "## Execute the procedure with an input variable\r\n",
                "> Caution: There are no brackets!\r\n",
                ""
            ],
            "metadata": {
                "azdata_cell_guid": "f1be6765-7211-45cf-a9c6-cbbb2c6a70c5"
            }
        },
        {
            "cell_type": "code",
            "source": [
                "EXECUTE GetProductsOutOfStock 2"
            ],
            "metadata": {
                "azdata_cell_guid": "c1d0b74d-cb4a-4de3-b151-d7a44adc1875",
                "tags": []
            },
            "outputs": [],
            "execution_count": null
        },
        {
            "cell_type": "markdown",
            "source": [
                "## Using output parameters\r\n",
                "Since we also want to see the name of the supplier, we'll add an `output` parameter, `supplierName`"
            ],
            "metadata": {
                "azdata_cell_guid": "3161c73c-2746-457e-a167-0170caca068a"
            }
        },
        {
            "cell_type": "code",
            "source": [
                "ALTER PROCEDURE GetProductsOutOfStock \r\n",
                "    @supplierId INT,\r\n",
                "    @supplierName NVARCHAR(MAX) OUTPUT\r\n",
                "AS\r\n",
                "SELECT\r\n",
                "    ProductID as ID,\r\n",
                "    ProductName as Name,\r\n",
                "    UnitsInStock as Stock\r\n",
                "FROM Product\r\n",
                "WHERE   UnitsInStock < 100\r\n",
                "AND     SupplierId = @supplierId\r\n",
                "\r\n",
                "SELECT @supplierName = SupplierName\r\n",
                "FROM Supplier\r\n",
                "WHERE SupplierId = @supplierId\r\n",
                ""
            ],
            "metadata": {
                "azdata_cell_guid": "ebd0fbf4-6ea3-4ed5-bf3c-f7cf48100e15",
                "tags": []
            },
            "outputs": [],
            "execution_count": null
        },
        {
            "cell_type": "markdown",
            "source": [
                "## Execute the procedure with an input and output variable\r\n",
                "\r\n",
                "\r\n",
                ""
            ],
            "metadata": {
                "azdata_cell_guid": "c9fe613c-c9ec-419f-8b66-24954f1f892e"
            }
        },
        {
            "cell_type": "code",
            "source": [
                "DECLARE @supplierName NVARCHAR(max)\r\n",
                "EXECUTE GetProductsOutOfStock 2, @supplierName OUTPUT -- This OUTPUT statement can easily be forgotten.\r\n",
                "PRINT 'Products out of stock for supplier:' + @supplierName"
            ],
            "metadata": {
                "azdata_cell_guid": "26c23ad9-dff7-4cce-8c70-66f8f2c91399",
                "tags": []
            },
            "outputs": [],
            "execution_count": null
        },
        {
            "cell_type": "markdown",
            "source": [
                "## Case\n",
                "In this case we want to delete a customer based on the `CustomerNumber` but there are some checks we need to do before we delete the customer:\n",
                "- The customer should exists\n",
                "- The customer should't have any orders\n",
                "- The INPUT parameter CustNo should be provided\n",
                ""
            ],
            "metadata": {
                "azdata_cell_guid": "66fb9fea-cb3f-4f91-8ecc-2670afb4a82b"
            }
        },
        {
            "cell_type": "code",
            "source": [
                "CREATE PROCEDURE  DeleteCustomer\r\n",
                " @custno INT = NULL\r\n",
                "AS\r\n",
                "\r\n",
                "IF @custno IS NULL\r\n",
                "BEGIN\r\n",
                "    PRINT 'Please provide a customerid'\r\n",
                "    RETURN -1\r\n",
                "END\r\n",
                "\r\n",
                "IF NOT EXISTS (SELECT NULL FROM customer WHERE CustomerId = @custno)\r\n",
                "BEGIN\r\n",
                "    PRINT 'The customer doesn''t exist.'\r\n",
                "    RETURN\r\n",
                "END\r\n",
                "\r\n",
                "IF EXISTS (SELECT NULL FROM Orders WHERE CustomerId = @custno)\r\n",
                "BEGIN\r\n",
                "    PRINT 'The customer already has orders and can''t be deleted.'\r\n",
                "    RETURN\r\n",
                "END\r\n",
                "\r\n",
                "DELETE FROM Customer WHERE CustomerId = @custno\r\n",
                "PRINT 'The customer has been succesfully deleted'"
            ],
            "metadata": {
                "azdata_cell_guid": "310e2809-e50b-4a17-a377-ee57c6578ad3",
                "tags": []
            },
            "outputs": [],
            "execution_count": null
        },
        {
            "cell_type": "markdown",
            "source": [
                "# Functions\r\n",
                "Are basically the same as a `stored procedure` and `view` but there are some (subtle) differences:\r\n",
                "- A function **cannot** mutate data or database objects, it can only retrieve data or make calculations based on data.\r\n",
                "> By using a `Function` you're implicitly saying you're not mutating the database nor it's data it contains. \r\n",
                "- A `view` **cannot** accept input parameters, a `function` can.\r\n",
                "\r\n",
                "## Multiple types of functions\r\n",
                "- Scalar\r\n",
                "\r\n",
                "    User-defined scalar functions return a single data value of the type defined in the `RETURNS` clause. For an inline scalar function, the returned scalar value is the result of a single statement. For a multistatement scalar function, the function body can contain a series of Transact-SQL statements that return the single value. The return type can be any data type except text, ntext, image, cursor, and timestamp.\r\n",
                "- Table-Valued Functions\r\n",
                "\r\n",
                "    User-defined table-valued functions return a table data type. For an inline table-valued function, there is no function body; the table is the result set of a single `SELECT` statement. \r\n",
                "- System Functions\r\n",
                "\r\n",
                "    SQL Server provides many system functions that you can use to perform a variety of operations, do note that they cannot be modified\r\n",
                "\r\n",
                "## Limitations\r\n",
                "- User-defined functions cannot be used to perform actions that modify the database state.\r\n",
                "- User-defined functions can not return multiple result sets. Use a stored procedure if you need to return multiple result sets.\r\n",
                "- Error handling is restricted in a user-defined function. A UDF does not support TRY...CATCH, @ERROR or RAISERROR.\r\n",
                "- User-defined functions cannot call a stored procedure.\r\n",
                "- User-defined functions cannot make use of dynamic SQL or temp tables.\r\n",
                "- SET statements are not allowed in a user-defined function.\r\n",
                "\r\n",
                "[Read More](https://docs.microsoft.com/en-us/sql/relational-databases/user-defined-functions/user-defined-functions?view=sql-server-ver15)\r\n",
                "\r\n",
                ""
            ],
            "metadata": {
                "azdata_cell_guid": "7406ea2c-a4f4-4e13-a4d2-610b36f04ee0"
            }
        },
        {
            "cell_type": "markdown",
            "source": [
                "## Case\r\n",
                "For our business we'd like to see which products are out of stock. So we can make sure to order some extra in the next delivery run, we want to specify the minimum amount of stock and a given supplier. "
            ],
            "metadata": {
                "azdata_cell_guid": "edc5e5da-1b24-4f3d-b693-7f3ee0780d77"
            }
        },
        {
            "cell_type": "markdown",
            "source": [
                "## Table Valued Function\r\n",
                "A table-valued function is a user-defined function that returns data of a table type. The return type of a table-valued function is a table, therefore, you can use the table-valued function just like you would use a table."
            ],
            "metadata": {
                "azdata_cell_guid": "22711157-90f6-4acb-9bcb-ec7353d444bc"
            }
        },
        {
            "cell_type": "code",
            "source": [
                "CREATE FUNCTION udf_GetProductsOutOfStockForSupplier(@minStock INT, @supplierId INT) RETURNS TABLE AS\r\n",
                "RETURN \r\n",
                "SELECT\r\n",
                "    ProductID as ID,\r\n",
                "    ProductName as Name,\r\n",
                "    UnitsInStock as Stock\r\n",
                "FROM Product\r\n",
                "WHERE   UnitsInStock < @minStock\r\n",
                "    AND SupplierId = @supplierId"
            ],
            "metadata": {
                "azdata_cell_guid": "ad9ef1f9-111f-4d4b-95d8-f3327ee88eec",
                "tags": []
            },
            "outputs": [],
            "execution_count": null
        },
        {
            "cell_type": "markdown",
            "source": [
                "## Executing a Table Valued Function\r\n",
                "Notice that this is not possible with a SQL View."
            ],
            "metadata": {
                "azdata_cell_guid": "b48ab69e-7a74-46fc-b24d-9496aad4a0d7"
            }
        },
        {
            "cell_type": "code",
            "source": [
                "SELECT *\r\n",
                "FROM udf_GetProductsOutOfStockForSupplier(45,7)"
            ],
            "metadata": {
                "azdata_cell_guid": "18d9c3ef-fa0f-481f-a341-27b240245132",
                "tags": []
            },
            "outputs": [],
            "execution_count": null
        },
        {
            "cell_type": "markdown",
            "source": [
                "# Scalar Functions\r\n",
                ""
            ],
            "metadata": {
                "azdata_cell_guid": "91f65a21-5ac1-4b91-a21a-0f270fd2a37d"
            }
        },
        {
            "cell_type": "code",
            "source": [
                "CREATE FUNCTION GetAge \r\n",
                "\t(@birthdate AS DATE, @eventdate AS DATE) \r\n",
                "RETURNS INT \r\n",
                "AS \r\n",
                "BEGIN \r\n",
                " RETURN \r\n",
                " DATEDIFF(year, @birthdate, @eventdate) \r\n",
                " - CASE WHEN 100 * MONTH(@eventdate) + DAY(@eventdate) < \r\n",
                "             100 * MONTH(@birthdate) + DAY(@birthdate) \r\n",
                " THEN 1 ELSE 0 \r\n",
                " END; \r\n",
                "END;\r\n",
                ""
            ],
            "metadata": {
                "azdata_cell_guid": "66bb3413-1e0c-4458-96bc-8524cf25d0e8",
                "tags": []
            },
            "outputs": [],
            "execution_count": null
        },
        {
            "cell_type": "code",
            "source": [
                "select lastname, firstname, cast(birthdate as date) birthdate,\r\n",
                "cast(getdate() as date) today, dbo.GetAge(birthdate,getdate()) age\r\n",
                "from employee;\r\n",
                ""
            ],
            "metadata": {
                "azdata_cell_guid": "df81c2d3-71a2-4ead-a6ef-0697cb3f2371",
                "tags": []
            },
            "outputs": [],
            "execution_count": null
        }
    ]
}