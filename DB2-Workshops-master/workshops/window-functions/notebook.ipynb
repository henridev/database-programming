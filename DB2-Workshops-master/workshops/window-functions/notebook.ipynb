{
    "metadata": {
        "kernelspec": {
            "name": "SQL",
            "display_name": "SQL",
            "language": "sql"
        },
        "language_info": {
            "name": "sql",
            "version": ""
        }
    },
    "nbformat_minor": 2,
    "nbformat": 4,
    "cells": [
        {
            "cell_type": "markdown",
            "source": [
                "# WINDOW FUNCTIONS IN SQL"
            ],
            "metadata": {
                "azdata_cell_guid": "18238b6f-52c5-4587-ac5c-935d535ee059"
            }
        },
        {
            "cell_type": "markdown",
            "source": [
                "## Business Case\r\n",
                "- Often business managers want to compare current sales to previous sales\r\n",
                "- Previous sales can be:\r\n",
                "    - sales during previous month\r\n",
                "    - average sales during last three months\r\n",
                "    - last year’s sales until current date (year-to-date)\r\n",
                "- Window functions offer a solution to these kind of problems in a single, efficient SQL query\r\n",
                "- Introduced in SQL: 2003\r\n",
                ""
            ],
            "metadata": {
                "azdata_cell_guid": "58e1f711-29aa-4e3f-b237-fde6788d04d7"
            }
        },
        {
            "cell_type": "markdown",
            "source": [
                "## OVER CLAUSE\r\n",
                "- Results of a `SELECT` are partitioned\r\n",
                "- The `OVER` clauses creates partitions and ordering\r\n",
                "- Numbering, ordering and aggregate functions per partition\r\n",
                "- The partition behaves as a window that shifts over the data\r\n",
                "- The `OVER` clause can be used with standard aggregate functions (`SUM`, `AVG`, …) or specific window functions (`RANK`, `LAG`,…)\r\n",
                ""
            ],
            "metadata": {
                "azdata_cell_guid": "1176960b-9458-4d32-9de6-16c7785bf06c"
            }
        },
        {
            "cell_type": "markdown",
            "source": [
                "## Example: Running Total - Year To Date\r\n",
                "- Database `xtreme`: give `OrderId`, `OrderDate`, `OrderAmount` and running total (Year To Date-YTD) of the `OrderAmount`.Initialize the total for each new year.\r\n",
                "- **Using a correlated subquery** this is **very inefficient** as for each line the **complete sum is recalculated** (see chapter about subqueries).\r\n",
                ""
            ],
            "metadata": {
                "azdata_cell_guid": "4295e958-97cf-42f1-ad3f-707c18e3d021"
            }
        },
        {
            "cell_type": "code",
            "source": [
                "SELECT \r\n",
                " OrderId\r\n",
                ",OrderDate\r\n",
                ",OrderAmount\r\n",
                ",(SELECT SUM(OrderAmount) \r\n",
                "  FROM Orders [Order]\r\n",
                "  WHERE YEAR(OrderDate) = Year(o.OrderDate) \r\n",
                "\tAND [Order].OrderId <= o.OrderId\r\n",
                " ) AS [Year To Date]\r\n",
                "FROM Orders o\r\n",
                "ORDER BY OrderId;"
            ],
            "metadata": {
                "azdata_cell_guid": "8e53fe2f-0362-470d-8e44-8b97fe66c6a9",
                "tags": []
            },
            "outputs": [],
            "execution_count": null
        },
        {
            "cell_type": "markdown",
            "source": [
                "- The `OVER` clause makes the query \r\n",
                "    - much simpler \r\n",
                "    - far more efficient\r\n",
                "- The sum is repeated for each partition\r\n",
                ""
            ],
            "metadata": {
                "azdata_cell_guid": "45f1d82e-52de-464a-b0f9-59900447501b"
            }
        },
        {
            "cell_type": "code",
            "source": [
                "SELECT \r\n",
                " OrderId\r\n",
                ",OrderDate\r\n",
                ",OrderAmount\r\n",
                ",SUM(OrderAmount) OVER (PARTITION BY YEAR(OrderDate) ORDER BY OrderId) AS [Year To Date]\r\n",
                "FROM Orders\r\n",
                "ORDER BY OrderId"
            ],
            "metadata": {
                "azdata_cell_guid": "f4b66d43-ce22-4c0b-a8cb-f4a24906c5aa"
            },
            "outputs": [],
            "execution_count": null
        },
        {
            "cell_type": "markdown",
            "source": [
                "> Notice: \r\n",
                "> - The execution time of both queries.\r\n",
                "> - The running total is initialized for the next year.\r\n",
                ""
            ],
            "metadata": {
                "azdata_cell_guid": "b8c7fe1d-6e8d-46e4-abe5-3e6832c86cf3"
            }
        },
        {
            "cell_type": "markdown",
            "source": [
                "## Window functions: `ROW_NUMBER() | RANK()`\r\n",
                "- `PARTITION` is **optional**, `ORDER BY` is **mandatory**\r\n",
                "- `ROW_NUMBER()`: running sequence number, no duplicates occur in the same partition. \r\n",
                "- `RANK()`: running `RANK` per partition, duplicates can occur: 1, 2, 3, 3, <b>5</b>\r\n",
                "    - Since there are 2 rows with a same rank namely (3), there is no fourth `RANK`, it's immediatly rank 5.\r\n",
                "- `DENSE_RANK()`: no gaps in ranking 1, 2, 3, 3, <b>4</b>\r\n",
                ""
            ],
            "metadata": {
                "azdata_cell_guid": "c4a9fe7f-c020-4b2a-85e5-153525bc934d"
            }
        },
        {
            "cell_type": "code",
            "source": [
                "SELECT \r\n",
                " ROW_NUMBER() OVER (ORDER BY o.orderdate, o.orderid) AS OrderSequence\r\n",
                ",ROW_NUMBER() OVER (PARTITION BY o.customerid ORDER BY o.orderdate, o.orderid) AS CustomerOrderSequence\r\n",
                ",RANK() OVER (ORDER BY o.orderamount DESC) AS OrderRanking\r\n",
                ",RANK() OVER (PARTITION BY o.customerid ORDER BY o.orderamount DESC) AS CustomerOrderRanking\r\n",
                ",o.orderid, o.customerid, o.orderdate, o.orderamount\r\n",
                "FROM orders o\r\n",
                "ORDER BY OrderSequence\r\n",
                ""
            ],
            "metadata": {
                "azdata_cell_guid": "0e2fc4d7-8a2c-4914-9078-961c1abc7cd9"
            },
            "outputs": [],
            "execution_count": null
        },
        {
            "cell_type": "markdown",
            "source": [
                "CustomerOrderRanking = 18 means: \r\n",
                "- The current order is the 18th biggest order for the current customer (customerid = 30)\r\n",
                ""
            ],
            "metadata": {
                "azdata_cell_guid": "c07b30f4-288f-4cba-8d3d-ca21163c8d04"
            }
        },
        {
            "cell_type": "markdown",
            "source": [
                "## Window functions: percent_rank()\r\n",
                "- pct_rank() shows the ranking on a scale from 0 - 1 "
            ],
            "metadata": {
                "azdata_cell_guid": "d6a27ab7-117f-4617-9d1c-365aadf405c8"
            }
        },
        {
            "cell_type": "code",
            "source": [
                "select \r\n",
                " row_number() over (order by o.orderdate, o.orderid) as OrderSequence\r\n",
                ",rank() over (order by o.orderamount desc) as OrderRanking\r\n",
                ",percent_rank() over (order by o.orderamount desc) as PctOrderRanking, o.orderid, o.orderdate, o.orderamount\r\n",
                "from orders o\r\n",
                "order by OrderSequence"
            ],
            "metadata": {
                "azdata_cell_guid": "732ae2da-8570-48b9-95f6-e65714bb031c"
            },
            "outputs": [],
            "execution_count": null
        },
        {
            "cell_type": "markdown",
            "source": [
                "## Window functions: moving aggregate \r\n",
                "- Real meaning of window functions: apply to a window that shifts over the result set\r\n",
                "- Previous examples work with default window: start of resultset to current row\r\n",
                "- ‘Running query total’ could also have been written as: \r\n",
                ""
            ],
            "metadata": {
                "azdata_cell_guid": "d557dc8d-ce61-4ed8-b084-35bebcaa9ee1"
            }
        },
        {
            "cell_type": "code",
            "source": [
                "select \r\n",
                " orderid\r\n",
                ",orderdate\r\n",
                ",orderamount\r\n",
                ",sum(orderamount) over (partition by year(o.orderdate) order by o.orderid range between unbounded preceding and current row) YTD\r\n",
                "from orders o\r\n",
                "order by orderid;"
            ],
            "metadata": {
                "azdata_cell_guid": "b3f2fef2-2ec1-4b5c-b6b3-08d36a4b2ed1",
                "tags": []
            },
            "outputs": [],
            "execution_count": null
        },
        {
            "cell_type": "markdown",
            "source": [
                "With range you have three valid options:\r\n",
                "- range between unbounded preceding and current row\r\n",
                "- range between current row and unbounded following \r\n",
                "- range between unbounded preceding and unbounded following \r\n",
                "\r\n",
                "Example: show running total and overall total by customer\r\n",
                ""
            ],
            "metadata": {
                "azdata_cell_guid": "7a806921-be39-489f-bc13-d597c32d947c"
            }
        },
        {
            "cell_type": "code",
            "source": [
                "select \r\n",
                " o.orderid\r\n",
                ",o.customerid\r\n",
                ",o.orderamount\r\n",
                ",sum(o.orderamount) over (partition by o.customerid order by o.orderid,o.customerid\r\n",
                "    range between unbounded preceding and current row) as RunningTotalByCustomer -- running total\r\n",
                ",sum(o.orderamount) over (partition by o.customerid order by o.orderid  -- order by is mandatory\r\n",
                "    range between unbounded preceding and unbounded following) as OverallTotalByCustomer\r\n",
                "from orders o\r\n",
                "order by o.customerid;"
            ],
            "metadata": {
                "azdata_cell_guid": "21cf5eb0-6121-46ce-bd43-b2391580e070"
            },
            "outputs": [],
            "execution_count": null
        },
        {
            "cell_type": "markdown",
            "source": [
                "- When you use RANGE, the current row is compared to other rows and grouped based on the ORDER BY predicate. \r\n",
                "- This is not always desirable; you might actually want a physical offset.\r\n",
                "- In this scenario, you would specify `ROWS` instead of `RANGE`. \r\n",
                "    This gives you three options in addition to the three options enumerated previously:\r\n",
                "    - rows between `N preceding` and `current row`\r\n",
                "    - rows between `current row` and `N following`\r\n",
                "    - rows between `N preceding` and `N following`\r\n",
                "- Example: show moving average of monthly sales for\r\n",
                "    1. three preceding months and current month\r\n",
                "    2. preceding, current and next month\r\n",
                "- We first use a CTE to calculate the monthly sales\r\n",
                "\r\n",
                ""
            ],
            "metadata": {
                "azdata_cell_guid": "9e5df550-1ed1-4b80-ad3f-d7d27d3202a5"
            }
        },
        {
            "cell_type": "code",
            "source": [
                "with monthlysales as \r\n",
                "(select year(orderdate)*100 + month(orderdate) MON, sum(o.orderamount) SALES\r\n",
                "from Orders o\r\n",
                "group by year(orderdate)*100 + month(orderdate))\r\n",
                "\r\n",
                "select mon, sales, \r\n",
                "round(avg(sales) over (order by mon rows between 3 preceding and current row),0) AVG4MONTHS,\r\n",
                "round(avg(sales) over (order by mon rows between 1 preceding and 1 following),0) AVG3MONTHS\r\n",
                "from monthlysales\r\n",
                "order by 1;"
            ],
            "metadata": {
                "azdata_cell_guid": "47a5e25b-8ffe-4b43-a7c3-95267be0133f"
            },
            "outputs": [],
            "execution_count": null
        },
        {
            "cell_type": "markdown",
            "source": [
                "## Window functions LAG and LEAD\r\n",
                "- Windows functions LAG and LEAD refer to previous and next row respectively \r\n",
                "- Example: show monthly sales for previous and next month"
            ],
            "metadata": {
                "azdata_cell_guid": "684f419f-1670-4e58-8929-a8d59bdd1116"
            }
        },
        {
            "cell_type": "code",
            "source": [
                "with monthlysales as \r\n",
                "(select year(orderdate)*100 + month(orderdate) MON, sum(o.orderamount) SALES\r\n",
                "from orders o\r\n",
                "group by year(orderdate)*100 + month(orderdate))\r\n",
                "\r\n",
                "select mon, sales,\r\n",
                "lag(sales) over (order by mon) SALESPREVMONTH,\r\n",
                "lead(sales) over (order by mon) SALESNEXTMONTH\r\n",
                "from monthlysales\r\n",
                "order by 1;"
            ],
            "metadata": {
                "azdata_cell_guid": "791e1487-42cd-4652-8709-7c75cd51a6cd"
            },
            "outputs": [],
            "execution_count": null
        },
        {
            "cell_type": "markdown",
            "source": [
                "## Exercises\r\n",
                "### DB xtreme\r\n",
                "1. Compare the monthly sales to the moving average of the last three months. Show month, sales and moving average. \r\n",
                ""
            ],
            "metadata": {
                "azdata_cell_guid": "016a5a3a-82b8-4bd8-add7-db2a917d5092"
            }
        },
        {
            "cell_type": "code",
            "source": [
                ""
            ],
            "metadata": {
                "azdata_cell_guid": "6d59effb-8c4a-47f0-934f-f3dc91f73274"
            },
            "outputs": [],
            "execution_count": null
        },
        {
            "cell_type": "markdown",
            "source": [
                "2. Show for each month the percentual growth (or decline) as opposed to the previous month. Show month, sales and growth-%\r\n",
                ""
            ],
            "metadata": {
                "azdata_cell_guid": "6b22be50-9897-4843-ada1-1eade5538704"
            }
        },
        {
            "cell_type": "code",
            "source": [
                ""
            ],
            "metadata": {
                "azdata_cell_guid": "ab928555-66e6-4181-8219-6594b5743f66"
            },
            "outputs": [],
            "execution_count": null
        },
        {
            "cell_type": "markdown",
            "source": [
                "3. Show for each month for which we have sales the total sold quantites and the average of the sold quanties in the previous and the next month. Also add a row number and show the rank (highest first) of each month in the current year. \r\n",
                ""
            ],
            "metadata": {
                "azdata_cell_guid": "176a6f44-3130-432f-b574-505cbc2ee1ed"
            }
        },
        {
            "cell_type": "code",
            "source": [
                ""
            ],
            "metadata": {
                "azdata_cell_guid": "eb833d45-2f6c-4c72-aa64-d1a0e398ff0e"
            },
            "outputs": [],
            "execution_count": null
        }
    ]
}