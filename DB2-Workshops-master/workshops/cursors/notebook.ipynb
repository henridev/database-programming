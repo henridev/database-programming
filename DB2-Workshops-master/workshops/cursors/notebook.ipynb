{
    "metadata": {
        "kernelspec": {
            "name": "SQL",
            "display_name": "SQL",
            "language": "sql"
        },
        "language_info": {
            "name": "sql",
            "version": ""
        }
    },
    "nbformat_minor": 2,
    "nbformat": 4,
    "cells": [
        {
            "cell_type": "markdown",
            "source": [
                "# Cursors\n",
                "SQL works based on set e.g., `SELECT` statement returns a set of rows which is called a `result set`. However, sometimes, you may want to process a data set on a `row by row` basis. This is where `cursors` come into play.\n",
                "\n",
                "## Lifecycle\n",
                "![Cursor Lifecycle](images/sql-server-cursor.png)\n",
                "1. `DECLARE` your `variables` that you need in the logic.\n",
                "2. `DECLARE` a `CURSOR` with a specific name that you will use throughout the logic. This is immediately followed by opening the cursor.\n",
                "3. `FETCH` a record from cursor to begin the data processing.\n",
                "4. Start a `WHILE` loop to check the `@@FETCHSTATUS`\n",
                "    5. Is the data process that is unique to each set of logic. This could be inserting, updating, deleting, etc. for each row of data that was fetched. This is the most important set of logic during this process that is performed on each row.\n",
                "    6. `FETCH` the next record from cursor as you did in step 3 and then step 5 is repeated again by processing the selected data.\n",
                "7. Once all of the data has been processed, then you `CLOSE` the cursor to remove the lock on the rows (if the cursor has an `FOR UPDATE` statement)\n",
                "8. Finally, you need to `DEALLOCATE` the cursor to release all of the internal resources SQL Server is holding.\n",
                "\n",
                "## Declaration\n",
                "To declare a cursor, you specify its name after the `DECLARE` keyword with the `CURSOR` data type and provide a `SELECT` statement that defines the result set for the cursor.\n",
                "\n",
                "```sql\n",
                "DECLARE <cursor_name> [...] CURSOR FOR\n",
                "<SELECT_statement> \n",
                "[FOR {READ ONLY | UPDATE[OF <column list>]}]\n",
                "```\n",
                "\n",
                "- `READ ONLY` : Prohibits data  changes in underlying tables through cursor\n",
                "- `UPDATE` : Data changes are allowed, optionally specify columns that can be changed via the cursor\n",
                ""
            ],
            "metadata": {
                "azdata_cell_guid": "6d8a169d-8626-41d1-92a9-4aa50615a099"
            }
        },
        {
            "cell_type": "markdown",
            "source": [
                "### Open\r\n",
                "Next, open and populate the cursor by executing the `SELECT` statement:\r\n",
                "\r\n",
                "```sql\r\n",
                "OPEN cursor_name;\r\n",
                "```\r\n",
                "\r\n",
                ""
            ],
            "metadata": {
                "azdata_cell_guid": "fb3b1822-25fd-4197-92eb-a9a76ebce0bc"
            }
        },
        {
            "cell_type": "markdown",
            "source": [
                "### Fetching data\r\n",
                "Then, fetch a row from the cursor into one or more variables:\r\n",
                "\r\n",
                "\r\n",
                "```sql\r\n",
                "FETCH NEXT FROM cursor INTO variable_list;\r\n",
                "```\r\n",
                "\r\n",
                "SQL Server provides the `@@FETCHSTATUS` function that returns the status of the last cursor `FETCH` statement executed against the cursor.\r\n",
                "\r\n",
                "| Status Code | Description |\r\n",
                "| ----------- | ----------- |\r\n",
                "|  0          |\tThe FETCH statement was successful. |\r\n",
                "| -1          | The FETCH statement failed or the row was beyond the result set. |\r\n",
                "| ...         | Other statuscodes can be found online. |\r\n",
                "\r\n",
                ""
            ],
            "metadata": {
                "azdata_cell_guid": "ded8d052-a87f-4874-ad6c-2837a7ed417b"
            }
        },
        {
            "cell_type": "markdown",
            "source": [
                "### Iterate through the rows\r\n",
                "```sql\r\n",
                "WHILE @@FETCH_STATUS = 0  \r\n",
                "    BEGIN\r\n",
                "        -- Do something usefull here\r\n",
                "        FETCH NEXT FROM cursor_name;  \r\n",
                "    END;\r\n",
                "```"
            ],
            "metadata": {
                "azdata_cell_guid": "131e296b-ac4c-47b6-8c8f-80895a1692ea"
            }
        },
        {
            "cell_type": "markdown",
            "source": [
                "### Close and Deallocate the cursor\r\n",
                "```sql\r\n",
                "CLOSE cursor_name;\r\n",
                "```\r\n",
                "\r\n",
                "```sql\r\n",
                "DEALLOCATE cursor_name;\r\n",
                "```"
            ],
            "metadata": {
                "azdata_cell_guid": "49402dc0-10e1-4969-8656-89f26230971b"
            }
        },
        {
            "cell_type": "markdown",
            "source": [
                "# Case \r\n",
                "`PRINT` the first 10 products of the company, in the following format:\r\n",
                "> Product:1101 - Active Outdoors Crochet Glove has a price of 15.09\r\n",
                ">\r\n",
                "> Notice that a `SELECT` is different."
            ],
            "metadata": {
                "azdata_cell_guid": "171aac2e-7b7c-47bd-8451-21363c917ec6"
            }
        },
        {
            "cell_type": "code",
            "source": [
                "DECLARE \r\n",
                " @name VARCHAR(100)\r\n",
                ",@price DECIMAL(7,2)\r\n",
                ",@productid INT\r\n",
                "\r\n",
                "DECLARE product_cursor CURSOR FOR \r\n",
                "    SELECT TOP 10\r\n",
                "     Product.ProductName\r\n",
                "    ,Product.ProductID\r\n",
                "    ,Product.Price\r\n",
                "    FROM Product\r\n",
                "    ORDER BY ProductId ASC\r\n",
                "\r\n",
                "OPEN product_cursor;\r\n",
                "\r\n",
                "-- Read the first -possible- record into the variables\r\n",
                "FETCH NEXT FROM product_cursor INTO\r\n",
                " @name\r\n",
                ",@productid\r\n",
                ",@price\r\n",
                "\r\n",
                "-- Check if the last fetch operator was successfull\r\n",
                "WHILE @@FETCH_STATUS = 0\r\n",
                "BEGIN\r\n",
                "    -- Do stuff\r\n",
                "    PRINT FORMATMESSAGE('Product:%i - %s has a price of %s',@productid, @name, CONVERT(VARCHAR(7),@price));\r\n",
                "    -- Read the next record into the variables.\r\n",
                "    FETCH NEXT FROM product_cursor INTO\r\n",
                "     @name\r\n",
                "    ,@productid\r\n",
                "    ,@price\r\n",
                "END\r\n",
                "\r\n",
                "CLOSE product_cursor;\r\n",
                "DEALLOCATE product_cursor;"
            ],
            "metadata": {
                "azdata_cell_guid": "ff413833-5266-4c1b-a2b1-24f2c606af9f"
            },
            "outputs": [],
            "execution_count": null
        },
        {
            "cell_type": "markdown",
            "source": [
                "## Example\r\n",
                "Printing some order information"
            ],
            "metadata": {
                "azdata_cell_guid": "93345779-2670-4c93-a743-05ef38ad997e"
            }
        },
        {
            "cell_type": "code",
            "source": [
                "DECLARE \r\n",
                " @orderid INT\r\n",
                ",@orderamount DECIMAL(18,2)\r\n",
                ",@customername nvarchar(40);\r\n",
                "\r\n",
                "DECLARE orders_cursor CURSOR FOR\r\n",
                "    SELECT \r\n",
                "     OrderID\r\n",
                "    ,OrderAmount\r\n",
                "    ,customername \r\n",
                "    FROM orders o \r\n",
                "        JOIN customer c on o.CustomerID = c.customerid\r\n",
                "    WHERE OrderAmount > 10000;\t\r\n",
                "\r\n",
                "OPEN orders_cursor\r\n",
                "\r\n",
                "FETCH NEXT FROM orders_cursor INTO \r\n",
                " @orderid\r\n",
                ",@orderamount\r\n",
                ",@customername\r\n",
                "\r\n",
                "WHILE @@FETCH_STATUS = 0 \r\n",
                "BEGIN \r\n",
                "    PRINT FORMATMESSAGE('Order: %s, Amount: %s, Custoner: %s'\r\n",
                "                        ,STR(@orderid)\r\n",
                "                        ,STR(@orderamount)\r\n",
                "                        ,@customername)\r\n",
                "    FETCH NEXT FROM orders_cursor INTO \r\n",
                "     @orderid\r\n",
                "    ,@orderamount\r\n",
                "    ,@customername\r\n",
                "END \r\n",
                "\r\n",
                "CLOSE orders_cursor\r\n",
                "\r\n",
                "DEALLOCATE orders_cursor\r\n",
                ""
            ],
            "metadata": {
                "azdata_cell_guid": "66feb232-a775-4192-83fb-2e45923957cb"
            },
            "outputs": [],
            "execution_count": null
        },
        {
            "cell_type": "markdown",
            "source": [
                "# Example\r\n",
                "Printing Order and OrderDetails information for every order."
            ],
            "metadata": {
                "azdata_cell_guid": "9b5edd6c-928d-4fb6-bbbe-d9f27ff1c6ac"
            }
        },
        {
            "cell_type": "code",
            "source": [
                "-- Outer Cursor Variables\r\n",
                "DECLARE \r\n",
                " @orderid INT\r\n",
                ",@orderamount DECIMAL(18,2)\r\n",
                ",@customername nvarchar(40);\r\n",
                "\r\n",
                "\r\n",
                "-- Inner Cursor Variables\r\n",
                "DECLARE \r\n",
                " @productid int\r\n",
                ",@quantity int\r\n",
                "\r\n",
                "DECLARE orders_cursor CURSOR FOR\r\n",
                "    SELECT \r\n",
                "     OrderID\r\n",
                "    ,OrderAmount\r\n",
                "    ,customername \r\n",
                "    FROM orders o \r\n",
                "        JOIN customer c on o.CustomerID = c.customerid\r\n",
                "    WHERE OrderAmount > 10000;\t\r\n",
                "\r\n",
                "OPEN orders_cursor\r\n",
                "\r\n",
                "FETCH NEXT FROM orders_cursor INTO \r\n",
                " @orderid\r\n",
                ",@orderamount\r\n",
                ",@customername\r\n",
                "\r\n",
                "WHILE @@FETCH_STATUS = 0 \r\n",
                "BEGIN \r\n",
                "    PRINT FORMATMESSAGE('Order: %s, Amount: %s, Custoner: %s'\r\n",
                "                        ,STR(@orderid)\r\n",
                "                        ,STR(@orderamount)\r\n",
                "                        ,@customername)\r\n",
                "        -- Inner Cursor for OrderDetails\r\n",
                "        DECLARE details_cursor CURSOR FOR \r\n",
                "            SELECT \r\n",
                "             productid\r\n",
                "            ,quantity\r\n",
                "            FROM OrdersDetail \r\n",
                "            WHERE OrderID = @orderid;\r\n",
                "\r\n",
                "        OPEN details_cursor\r\n",
                "\r\n",
                "        FETCH NEXT FROM details_cursor INTO \r\n",
                "         @productid\r\n",
                "        ,@quantity\r\n",
                "\r\n",
                "        WHILE @@FETCH_STATUS = 0 \r\n",
                "        BEGIN \r\n",
                "            PRINT '-------' + 'Product: ' + str(@productid) + ', Quantity:' + str(@quantity)\r\n",
                "            FETCH NEXT FROM details_cursor INTO \r\n",
                "             @productid\r\n",
                "            ,@quantity\r\n",
                "        END\r\n",
                "\r\n",
                "        CLOSE details_cursor\r\n",
                "        DEALLOCATE details_cursor\r\n",
                "        -- End inner cursor\r\n",
                "    FETCH NEXT FROM orders_cursor INTO \r\n",
                "     @orderid\r\n",
                "    ,@orderamount\r\n",
                "    ,@customername\r\n",
                "END \r\n",
                "\r\n",
                "CLOSE orders_cursor\r\n",
                "\r\n",
                "DEALLOCATE orders_cursor\r\n",
                ""
            ],
            "metadata": {
                "azdata_cell_guid": "2ad75cb4-4b44-408f-8129-527991e0e8e3",
                "tags": [
                    "hide_input"
                ]
            },
            "outputs": [],
            "execution_count": null
        },
        {
            "cell_type": "markdown",
            "source": [
                "# Mutating inside a cursor\r\n",
                ""
            ],
            "metadata": {
                "azdata_cell_guid": "fd7b23c9-5031-42ff-9140-ab35c2b8cbed"
            }
        },
        {
            "cell_type": "code",
            "source": [
                " WHILE @@FETCH_STATUS = 0 \r\n",
                "  BEGIN \r\n",
                "    PRINT '      ' + 'Product: ' + str(@productid) + ', Quantity:' + str(@quantity)\r\n",
                "    IF @quantity < 5\r\n",
                "  DELETE FROM ordersdetail WHERE CURRENT OF details_cursor\r\n",
                "    FETCH NEXT FROM details_cursor INTO @productid, @quantity\r\n",
                "  END\r\n",
                ""
            ],
            "metadata": {
                "azdata_cell_guid": "1d458754-ced3-4c56-ba61-299dcec58f1f"
            },
            "outputs": [],
            "execution_count": null
        }
    ]
}