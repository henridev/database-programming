{
    "metadata": {
        "kernelspec": {
            "name": "SQL",
            "display_name": "SQL",
            "language": "sql"
        },
        "language_info": {
            "name": "sql",
            "version": ""
        }
    },
    "nbformat_minor": 2,
    "nbformat": 4,
    "cells": [
        {
            "cell_type": "markdown",
            "source": [
                "# Temporary Tables \r\n",
                "A temporary table in SQL Server, as the name suggests, is a database table that exists temporarily on the database server. A temporary table stores a subset of data from a normal table for a certain period of time.\r\n",
                "\r\n",
                ""
            ],
            "metadata": {
                "azdata_cell_guid": "e4de3592-1220-4bb7-8471-720408321151"
            }
        },
        {
            "cell_type": "markdown",
            "source": [
                "## Use cases\r\n",
                "- One of the most often used scenarios for SQL Server temp tables is within a loop of some sort. For example, you want to process data for a SQL statement and it you need a place to store items for your loop to read through. It provides a quick and efficient means to do so. \r\n",
                "- Another reason to use SQL Server temp tables is you have some demanding processing to do in your sql statement. Let’s say that you create a join, and every time you need to pull records from that result set it has to process this join all over again. Why not just process this result set once and throw the records into a SQL temp table? Then you can have the rest of the sql statement refer to the SQL temp table name. Not only does this save on expensive query processing, but it may even make your code look a little cleaner."
            ],
            "metadata": {
                "azdata_cell_guid": "5c73591c-fd01-465c-ae7f-138e9586f06a"
            }
        },
        {
            "cell_type": "markdown",
            "source": [
                "## Global vs Local\r\n",
                "### Local\r\n",
                "- Stored in `tempdb` under `System Databases`\r\n",
                "- Can only be used:\r\n",
                " - In the creating sessions\r\n",
                " - At the creating level or underlying levels\r\n",
                "- Deleted when the creating level goes out-of-scope"
            ],
            "metadata": {
                "azdata_cell_guid": "cb22ff87-5b38-4d02-8bbb-6f08bea53404"
            }
        },
        {
            "cell_type": "markdown",
            "source": [
                "#### Example Local Temp. Table"
            ],
            "metadata": {
                "azdata_cell_guid": "f59d1f5a-5602-42b0-a501-c7de05f881c5"
            }
        },
        {
            "cell_type": "code",
            "source": [
                "DROP TABLE IF EXISTS #MyOrderTotalsByYear;\r\n",
                "\r\n",
                "CREATE TABLE #MyOrderTotalsByYear\r\n",
                "( \r\n",
                " OrderYear INT NOT NULL PRIMARY KEY\r\n",
                ",Quantity  INT NOT NULL \r\n",
                ");  \r\n",
                "\r\n",
                "-- Populate the Local Temp. Table\r\n",
                "INSERT INTO #MyOrderTotalsByYear\r\n",
                "(\r\n",
                " OrderYear\r\n",
                ",Quantity\r\n",
                ")\r\n",
                "SELECT \r\n",
                " YEAR([Order].OrderDate) AS OrderYear\r\n",
                ",SUM(Detail.Quantity) AS Quantity\r\n",
                "FROM Orders AS [Order] \r\n",
                "\tJOIN OrdersDetail AS Detail ON [Order].OrderId = Detail.OrderId\r\n",
                "GROUP BY YEAR(OrderDate);  \r\n",
                "\r\n",
                "-- Query the Local Temp. Table\r\n",
                "SELECT \r\n",
                " CurrentYear.OrderYear\r\n",
                ",CurrentYear.Quantity AS 'Current Year Quantity'\r\n",
                ",PreviousYear.Quantity AS 'Previous Year Quantity'\r\n",
                "FROM #MyOrderTotalsByYear AS CurrentYear\r\n",
                "\tLEFT JOIN #MyOrderTotalsByYear AS PreviousYear ON CurrentYear.OrderYear = PreviousYear.OrderYear + 1;\r\n",
                ""
            ],
            "metadata": {
                "azdata_cell_guid": "032388ad-5668-4e78-8730-5acb9f7b5a35"
            },
            "outputs": [],
            "execution_count": null
        },
        {
            "cell_type": "markdown",
            "source": [
                "\r\n",
                "### Global\r\n",
                "- Stored in `tempdb` under `System Databases`\r\n",
                "- Visible in **all** sessions\r\n",
                "- Removed if creating session disconnects **and** there are no more references"
            ],
            "metadata": {
                "azdata_cell_guid": "57a0256d-61b7-47d8-a83e-616fd336e637"
            }
        },
        {
            "cell_type": "markdown",
            "source": [
                "#### Example Global Temp. Table"
            ],
            "metadata": {
                "azdata_cell_guid": "a4dc8027-3197-4f69-9873-8b5c8d64c578"
            }
        },
        {
            "cell_type": "code",
            "source": [
                "CREATE TABLE ##MyGlobalTable \r\n",
                "(\r\n",
                " Id CHAR(4) NOT NULL PRIMARY KEY\r\n",
                ",[Value] INT NOT NULL );\r\n",
                "\r\n",
                "INSERT INTO ##MyGlobalTable(Id, [Value]) \r\n",
                "VALUES('ABCD',10);\r\n",
                "\r\n",
                "SELECT [Value] \r\n",
                "FROM ##MyGlobalTable \r\n",
                "WHERE Id = 'ABCD';\r\n",
                "\r\n",
                "-- DROP TABLE ##MyGlobalTable;\r\n",
                ""
            ],
            "metadata": {
                "azdata_cell_guid": "496233b9-14b8-4d51-8da0-093dd79e8469"
            },
            "outputs": [],
            "execution_count": null
        },
        {
            "cell_type": "markdown",
            "source": [
                "## Use case\r\n",
                "- Due to the Brexit we want to delete all orders that are not yet shipped and that contain products that are supplied by a supplier from the UK.\r\n",
                "- We first have to delete the ordersdetail because of the FK constraint with orders\r\n",
                "- But after deleting the ordersdetail we loose the link with the supplier and don’t kwow which orders to delete anymore\r\n",
                "- Solution: save the orderid’s in a `temporary` table. \r\n",
                "\r\n",
                ""
            ],
            "metadata": {
                "azdata_cell_guid": "0b4fbf75-64f2-4fb4-be6f-fb94c04f341b"
            }
        },
        {
            "cell_type": "code",
            "source": [
                "CREATE PROCEDURE DeleteOrdersUK \r\n",
                " @deletedorders int output\r\n",
                "AS\r\n",
                "BEGIN\r\n",
                "SET NOCOUNT ON\r\n",
                "CREATE TABLE #OrdersUK \r\n",
                "(\r\n",
                " orderid int\r\n",
                ")\r\n",
                "\r\n",
                "INSERT INTO #OrdersUK\r\n",
                "SELECT DISTINCT od.orderid \r\n",
                "FROM ordersdetail od\r\n",
                "    JOIN orders o on od.orderid = o.orderid \r\n",
                "WHERE productid IN \r\n",
                "(SELECT productid \r\n",
                " FROM product p \r\n",
                "    JOIN supplier s on p.SupplierID=s.SupplierID \r\n",
                " WHERE country='UK'\r\n",
                ") AND o.Shipped=0;\r\n",
                "\r\n",
                "DELETE FROM  ordersdetail WHERE orderid in (SELECT orderid FROM #OrdersUK)\r\n",
                "DELETE FROM orders\tWHERE orderid in (SELECT orderid FROM #OrdersUK)\r\n",
                "SET @deletedorders = @@ROWCOUNT\r\n",
                "END\r\n",
                ""
            ],
            "metadata": {
                "azdata_cell_guid": "aa0acc2d-033e-4916-9a5c-c7bfdc53002a"
            },
            "outputs": [],
            "execution_count": null
        },
        {
            "cell_type": "markdown",
            "source": [
                "### Executing the procedure"
            ],
            "metadata": {
                "azdata_cell_guid": "40bd7fdc-6d5b-41f1-b457-bd15b81a0f8f"
            }
        },
        {
            "cell_type": "code",
            "source": [
                "-- test of procedure DeleteOrdersUK\r\n",
                "begin transaction\r\n",
                "\r\n",
                "select od.orderid from ordersdetail od join orders o on od.orderid=o.orderid \r\n",
                "where productid in \r\n",
                "(select productid from product p join supplier s on p.SupplierID=s.SupplierID where country='UK') and o.Shipped=0;\r\n",
                "\r\n",
                "declare @nroforders int\r\n",
                "exec DeleteOrdersUK @nroforders out\r\n",
                "print 'Nr of deletedorders = ' + cast(@nroforders as varchar)\r\n",
                "\r\n",
                "select od.orderid from ordersdetail od join orders o on od.orderid=o.orderid \r\n",
                "where productid in \r\n",
                "(select productid from product p join supplier s on p.SupplierID=s.SupplierID where country='UK') and o.Shipped=0;\r\n",
                "\r\n",
                "rollback\r\n",
                ""
            ],
            "metadata": {
                "azdata_cell_guid": "a1b1b4b4-7718-4284-8abc-734ca22a2b6b"
            },
            "outputs": [],
            "execution_count": null
        }
    ]
}