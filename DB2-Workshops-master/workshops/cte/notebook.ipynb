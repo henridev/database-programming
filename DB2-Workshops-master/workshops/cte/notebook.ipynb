{
    "metadata": {
        "kernelspec": {
            "name": "SQL",
            "display_name": "SQL",
            "language": "sql"
        },
        "language_info": {
            "name": "sql",
            "version": ""
        }
    },
    "nbformat_minor": 2,
    "nbformat": 4,
    "cells": [
        {
            "cell_type": "markdown",
            "source": [
                "# Common Table Expressions (CTE)\r\n",
                "- Simplify SQL-instructions\r\n",
                "- Traverse recursively hierarchical and network structures\r\n",
                ""
            ],
            "metadata": {
                "azdata_cell_guid": "f540d2c6-ede1-444d-8c36-b5c16ca0809d"
            }
        },
        {
            "cell_type": "markdown",
            "source": [
                "## 1. Give the PlayerNo and the amount of penalties **each** player has."
            ],
            "metadata": {
                "azdata_cell_guid": "736d62d5-89e2-4d47-9180-e17bb859c9b9"
            }
        },
        {
            "cell_type": "code",
            "source": [
                "USE Tennis;\r\n",
                "\r\n",
                "SELECT \r\n",
                " Player.Name\r\n",
                ",COUNT(Penalty.PlayerNo) AS [#Penalties]\r\n",
                "FROM Players Player\r\n",
                "    LEFT JOIN Penalties Penalty ON Player.PlayerNo = Penalty.PlayerNo\r\n",
                "GROUP BY Player.Name"
            ],
            "metadata": {
                "azdata_cell_guid": "99e00357-8085-49be-bd2e-3b2af6cfcbd1",
                "tags": [
                    "hide_input"
                ]
            },
            "outputs": [],
            "execution_count": 61
        },
        {
            "cell_type": "markdown",
            "source": [
                "## Recap the `COUNT(...)` and `LEFT|RIGHT JOIN` statement"
            ],
            "metadata": {
                "azdata_cell_guid": "3c07ccfd-5987-43d7-b91d-ce6dec00e2bb"
            }
        },
        {
            "cell_type": "code",
            "source": [
                "USE Tennis;\r\n",
                "\r\n",
                "SELECT \r\n",
                " Player.PlayerNo  AS 'Player - PlayerNo'\r\n",
                ",Penalty.PlayerNo AS 'Penality - PlayerNo'\r\n",
                " FROM Players Player\r\n",
                "    LEFT JOIN Penalties Penalty ON Player.PlayerNo = Penalty.PlayerNo"
            ],
            "metadata": {
                "azdata_cell_guid": "50b1d21e-0eb6-4138-b684-d80176c72b24",
                "tags": [
                    "hide_input"
                ]
            },
            "outputs": [],
            "execution_count": 1
        },
        {
            "cell_type": "code",
            "source": [
                "USE Tennis;\r\n",
                "\r\n",
                "SELECT \r\n",
                " Player.PlayerNo\r\n",
                ",COUNT(*)\r\n",
                "FROM Players Player\r\n",
                "    LEFT JOIN Penalties Penalty ON Player.PlayerNo = Penalty.PlayerNo\r\n",
                "GROUP BY Player.PlayerNo"
            ],
            "metadata": {
                "azdata_cell_guid": "11d5fcec-59ad-4ac1-9da6-2186cfde4a00",
                "tags": [
                    "hide_input"
                ]
            },
            "outputs": [],
            "execution_count": 97
        },
        {
            "cell_type": "code",
            "source": [
                "USE Tennis;\r\n",
                "\r\n",
                "SELECT \r\n",
                " Player.PlayerNo\r\n",
                ",COUNT(Player.PlayerNo) -- -- Change is here.\r\n",
                "FROM Players Player\r\n",
                "    LEFT JOIN Penalties Penalty ON Player.PlayerNo = Penalty.PlayerNo\r\n",
                "GROUP BY Player.PlayerNo"
            ],
            "metadata": {
                "azdata_cell_guid": "8435b953-501b-40b1-aaf0-d242caa55244",
                "tags": [
                    "hide_input"
                ]
            },
            "outputs": [],
            "execution_count": 96
        },
        {
            "cell_type": "code",
            "source": [
                "USE Tennis;\r\n",
                "\r\n",
                "SELECT \r\n",
                " Player.PlayerNo\r\n",
                ",COUNT(Penalty.PlayerNo) -- Change is here.\r\n",
                "FROM Players Player\r\n",
                "    LEFT JOIN Penalties Penalty ON Player.PlayerNo = Penalty.PlayerNo\r\n",
                "GROUP BY Player.PlayerNo"
            ],
            "metadata": {
                "azdata_cell_guid": "cc8a9db1-9f91-4895-a137-bdc1c6fc627f",
                "tags": [
                    "hide_input"
                ]
            },
            "outputs": [],
            "execution_count": 95
        },
        {
            "cell_type": "markdown",
            "source": [
                "## 2. Give the total average of the amount of penalties each player has.\r\n",
                "1. Using a `AVG` around a `COUNT(...)`\r\n",
                "2. Using a subquery(Derived Table).\r\n",
                "3. Using a view\r\n",
                "4. Using a Common Table Expression (CTE)"
            ],
            "metadata": {
                "azdata_cell_guid": "5245216f-ce2a-4489-9b8d-27c0e7c20ade"
            }
        },
        {
            "cell_type": "code",
            "source": [
                "-- 1. Using a AVG around a COUNT(*)\r\n",
                "-- This won't work.\r\n",
                "USE Tennis;\r\n",
                "\r\n",
                "SELECT AVG(COUNT(Penalty.PlayerNo)) AS [#Penalties]\r\n",
                " FROM Players Player\r\n",
                "    LEFT JOIN Penalties Penalty ON Player.PlayerNo = Penalty.PlayerNo\r\n",
                "GROUP BY Player.Name"
            ],
            "metadata": {
                "azdata_cell_guid": "c7d87250-9a71-48f8-b1a7-4f72541b0479",
                "tags": [
                    "hide_input"
                ]
            },
            "outputs": [],
            "execution_count": 70
        },
        {
            "cell_type": "code",
            "source": [
                "-- 2. Using a subquery (Derived Table)\r\n",
                "USE Tennis;\r\n",
                "\r\n",
                "SELECT AVG(CAST(Fines.#Penalties AS DECIMAL)) AS 'Average Penalties Per Player' -- Without the cast it's a rounded INT.\r\n",
                "FROM \r\n",
                "(\r\n",
                "    SELECT COUNT(Penalty.PlayerNo) AS [#Penalties]\r\n",
                "    FROM Players Player\r\n",
                "        LEFT JOIN Penalties Penalty ON Player.PlayerNo = Penalty.PlayerNo\r\n",
                "    GROUP BY Player.PlayerNo -- What happens if... you GROUP BY the Name?\r\n",
                ") AS Fines -- Do not forget an Alias for the subquery since it's used in the FROM clause of the outer query."
            ],
            "metadata": {
                "azdata_cell_guid": "6d32e790-f08a-4bd2-8e35-54b608b03117",
                "tags": [
                    "hide_input"
                ]
            },
            "outputs": [],
            "execution_count": 98
        },
        {
            "cell_type": "code",
            "source": [
                "-- 3. Using a view.\r\n",
                "USE Tennis;\n",
                "GO\n",
                "CREATE VIEW vw_amount_of_penalties_per_player AS\r\n",
                "    SELECT COUNT(Penalty.PlayerNo) AS [#Penalties]\r\n",
                "    FROM Players Player\r\n",
                "        LEFT JOIN Penalties Penalty ON Player.PlayerNo = Penalty.PlayerNo\r\n",
                "    GROUP BY Player.PlayerNo\r\n",
                "GO\r\n",
                "SELECT AVG(CAST(#Penalties AS DECIMAL)) AS 'Average Penalties Per Player' -- Without the cast it's a rounded INT.\r\n",
                "FROM vw_amount_of_penalties_per_player\r\n",
                ""
            ],
            "metadata": {
                "azdata_cell_guid": "3af75524-c114-4751-a3bf-b718b298027a",
                "tags": [
                    "hide_input"
                ]
            },
            "outputs": [],
            "execution_count": 1
        },
        {
            "cell_type": "code",
            "source": [
                "-- 4. Using a Common Table Expression (CTE)\r\n",
                "\r\n",
                "USE Tennis;\r\n",
                "\r\n",
                "WITH Fines AS\r\n",
                "(\r\n",
                "    SELECT COUNT(Penalty.PlayerNo) AS [#Penalties]\r\n",
                "    FROM Players Player\r\n",
                "        LEFT JOIN Penalties Penalty ON Player.PlayerNo = Penalty.PlayerNo\r\n",
                "    GROUP BY Player.PlayerNo\r\n",
                ")\r\n",
                "SELECT AVG(CAST(#Penalties AS DECIMAL))\r\n",
                "FROM Fines;"
            ],
            "metadata": {
                "azdata_cell_guid": "80d13b2b-f06c-46f0-b3bb-e0912b44d37c",
                "tags": [
                    "hide_input"
                ]
            },
            "outputs": [],
            "execution_count": 2
        },
        {
            "cell_type": "markdown",
            "source": [
                "## Views vs. CTE\r\n",
                "- Similarities:\r\n",
                "    - Both are virtual tables.\r\n",
                "    - Data is not physically stored in a CTE nor VIEW.\r\n",
                "    - Re-usability\r\n",
                "- Differences:\r\n",
                "    - CTE only exists during the SELECT statement\r\n",
                "    - VIEW is stored as a Database Object\r\n",
                "\r\n",
                "## Subquery vs. CTE\r\n",
                "- Similarities:\r\n",
                "    - Both are virtual tables.\r\n",
                "    - Data is not physically stored in a CTE nor a subquery.\r\n",
                "    - A subquery can easily be replaced by a CTE.\r\n",
                "- Differences:\r\n",
                "    - A CTE can be reused in the same query\r\n",
                "    - Define:\r\n",
                "        - Subquery is defined in the clause where it is used (SELECT/FROM/WHERE/…)\r\n",
                "        - CTE is defined on top of the query since it's **WITH** the query."
            ],
            "metadata": {
                "azdata_cell_guid": "6162894f-8b5a-4611-ade4-f1466f264c46"
            }
        },
        {
            "cell_type": "markdown",
            "source": [
                "## Keep it DRY (Don't Repeat Yourself)\r\n",
                "Give the payment numbers and penalty amount that are not equal to the highest and lowest penalty ever paid by player 44. **Also show this highest and lowest amount in the result.**\r\n",
                ""
            ],
            "metadata": {
                "azdata_cell_guid": "8bc27f05-a88d-4eb2-a5b7-6ec13d12d754"
            }
        },
        {
            "cell_type": "code",
            "source": [
                "USE tennis;\r\n",
                "\r\n",
                "-- Subquery\r\n",
                "\r\n",
                "-- SELECT \r\n",
                "--  Penalty.PaymentNo\r\n",
                "-- ,Penalty.Amount\r\n",
                "-- ,(SELECT MIN(amount) FROM penalties WHERE playerno = 44) AS 'Min'\r\n",
                "-- ,(SELECT MAX(amount) FROM penalties WHERE playerno = 44) AS 'Max'\r\n",
                "-- FROM penalties Penalty\r\n",
                "-- WHERE Penalty.Amount <> (SELECT MIN(amount) FROM penalties WHERE playerno = 44)\r\n",
                "--   AND Penalty.Amount <> (SELECT MAX(amount) FROM penalties WHERE playerno = 44);\r\n",
                "\r\n",
                "\r\n",
                "-- Common Table Expression\r\n",
                "\r\n",
                "WITH extrema AS \r\n",
                "(\r\n",
                "    SELECT \r\n",
                "     MIN(Amount) AS 'Min'\r\n",
                "    ,Max(Amount) AS 'Max'\r\n",
                "    FROM Penalties  \r\n",
                "    WHERE PlayerNo = 44\r\n",
                ")\r\n",
                "SELECT\r\n",
                " Penality.PaymentNo\r\n",
                ",Penality.Amount\r\n",
                ",extrema.[Min]\r\n",
                ",extrema.[Max]\r\n",
                "FROM Penalties Penality\r\n",
                "    CROSS JOIN extrema\r\n",
                "WHERE Penality.Amount <> extrema.[Min]\r\n",
                "  AND Penality.Amount <> extrema.[Max]"
            ],
            "metadata": {
                "azdata_cell_guid": "30fb7261-52c9-47fa-85da-6022949ef309",
                "tags": [
                    "hide_input"
                ]
            },
            "outputs": [],
            "execution_count": 13
        },
        {
            "cell_type": "markdown",
            "source": [
                "## An xtreme example\r\n",
                "Give per productclass the price of the cheapest product **and all products with that price**. \r\n",
                ""
            ],
            "metadata": {
                "azdata_cell_guid": "71e7ce11-4d65-4759-951a-dba54fca22bd"
            }
        },
        {
            "cell_type": "code",
            "source": [
                "USE xtreme;\r\n",
                "\r\n",
                "WITH minimum_price_per_productclass AS\r\n",
                "(\r\n",
                "\tSELECT \r\n",
                "\t Product.ProductClassID \r\n",
                "\t,MIN(Product.Price) AS [Cheapest Price]\r\n",
                "\tFROM Product\r\n",
                "\tGROUP BY Product.ProductClassID\r\n",
                ")\r\n",
                "SELECT *\r\n",
                "FROM Product\r\n",
                "\tJOIN minimum_price_per_productclass ON minimum_price_per_productclass.ProductClassID = Product.ProductClassID \r\n",
                "\t                                   AND minimum_price_per_productclass.[Cheapest Price] = Product.Price "
            ],
            "metadata": {
                "azdata_cell_guid": "2b6a5876-3e11-456b-82e4-c3e0e905d2aa",
                "tags": [
                    "hide_input"
                ]
            },
            "outputs": [],
            "execution_count": 0
        },
        {
            "cell_type": "markdown",
            "source": [
                "## More than 1 WITH Component"
            ],
            "metadata": {
                "azdata_cell_guid": "d73e8d07-bdd1-457d-9926-bc458686143c"
            }
        },
        {
            "cell_type": "markdown",
            "source": [
                "Previous Example but having access to the maximum price"
            ],
            "metadata": {
                "azdata_cell_guid": "c52d89c2-e8c1-4e9f-be8b-3fb4fc57c1c5"
            }
        },
        {
            "cell_type": "code",
            "source": [
                "USE xtreme;\r\n",
                "\r\n",
                "WITH \r\n",
                "minimum_price_per_productclass AS\r\n",
                "(\r\n",
                "\tSELECT \r\n",
                "\t Product.ProductClassID \r\n",
                "\t,MIN(Product.Price) AS [Cheapest Price]\r\n",
                "\tFROM Product\r\n",
                "\tGROUP BY Product.ProductClassID\r\n",
                "),\r\n",
                "maximum_price_per_productclass AS -- not used but possible!\r\n",
                "(\r\n",
                "\tSELECT \r\n",
                "\t Product.ProductClassID \r\n",
                "\t,MAX(Product.Price) AS [Cheapest Price]\r\n",
                "\tFROM Product\r\n",
                "\tGROUP BY Product.ProductClassID\r\n",
                ")\r\n",
                "SELECT *\r\n",
                "FROM Product\r\n",
                "\tJOIN minimum_price_per_productclass ON minimum_price_per_productclass.ProductClassID = Product.ProductClassID \r\n",
                "\t                                   AND minimum_price_per_productclass.[Cheapest Price] = Product.Price "
            ],
            "metadata": {
                "azdata_cell_guid": "4b712bd6-9a26-41bb-a619-407641d20b9f",
                "tags": [
                    "hide_input"
                ]
            },
            "outputs": [],
            "execution_count": 3
        },
        {
            "cell_type": "markdown",
            "source": [
                "What is the total number of rows in both the penalties and the matches table?"
            ],
            "metadata": {
                "azdata_cell_guid": "5eaf86ed-33da-46f9-adc6-b29cf7de40f2"
            }
        },
        {
            "cell_type": "code",
            "source": [
                "USE tennis;\r\n",
                "\r\n",
                "-- Without CTE\r\n",
                "SELECT \r\n",
                "    (SELECT COUNT(*) FROM Penalties) + (SELECT COUNT(*) FROM Matches)\r\n",
                "\r\n",
                "-- With CTE\r\n",
                "WITH \r\n",
                "cte_pentalties AS \r\n",
                "(\r\n",
                "\tSELECT COUNT(*) AS 'Amount'\r\n",
                "\tFROM Penalties \r\n",
                "),\r\n",
                "cte_matches AS \r\n",
                "(\r\n",
                "\tSELECT COUNT(*) AS 'Amount'\r\n",
                "\tFROM Matches \r\n",
                ")\r\n",
                "SELECT (SELECT Amount from cte_pentalties) + (SELECT Amount from cte_matches)\r\n",
                ""
            ],
            "metadata": {
                "azdata_cell_guid": "1820ccf8-bef7-4fc8-be05-9cfcebdb820f",
                "tags": [
                    "hide_input"
                ]
            },
            "outputs": [],
            "execution_count": 14
        },
        {
            "cell_type": "markdown",
            "source": [
                "# Recursion\r\n",
                "Definition:\r\n",
                "- We continue to execute a table expression until a condition is reached.\r\n",
                "\r\n",
                "This allows you to solve problems like:\r\n",
                "- Who are the friends of my friends etc. (in a social network)?\r\n",
                "- What is the hierarchy of an organisation ? \r\n",
                "- Find the parts and subparts of a product (Bill of materials). \r\n",
                "\r\n",
                "Summary: \r\n",
                "- The 1st (non-recursive) expression is executed once and the 2nd expression is executed until it does not return any more results. \r\n",
                "\r\n",
                ""
            ],
            "metadata": {
                "azdata_cell_guid": "1d40debd-1846-4b84-942b-ad79997f144d"
            }
        },
        {
            "cell_type": "code",
            "source": [
                "-- The naive approach\r\n",
                "SELECT 1 \r\n",
                "UNION\r\n",
                "SELECT 2 \r\n",
                "UNION\r\n",
                "SELECT 3 \r\n",
                "UNION\r\n",
                "SELECT 4 \r\n",
                "UNION\r\n",
                "SELECT 5 "
            ],
            "metadata": {
                "azdata_cell_guid": "f3155b67-3d7d-479b-a205-29bdca4d7377",
                "tags": [
                    "hide_input"
                ]
            },
            "outputs": [],
            "execution_count": 0
        },
        {
            "cell_type": "code",
            "source": [
                "-- CTE\r\n",
                "WITH [Numbers] AS\r\n",
                "(\r\n",
                "    SELECT 1 AS Number\r\n",
                "    UNION ALL\r\n",
                "    SELECT Number + 1 \r\n",
                "    FROM [Numbers]\r\n",
                "    WHERE Number < 5\r\n",
                ")\r\n",
                "SELECT * FROM Numbers"
            ],
            "metadata": {
                "azdata_cell_guid": "2c970d39-3047-457a-85cf-d13392a7a97e",
                "tags": [
                    "hide_input"
                ]
            },
            "outputs": [],
            "execution_count": 20
        },
        {
            "cell_type": "code",
            "source": [
                "-- CTE\r\n",
                "WITH [Numbers] AS\r\n",
                "(\r\n",
                "    SELECT 1 AS Number\r\n",
                "    UNION ALL\r\n",
                "    SELECT Number + 1 \r\n",
                "    FROM [Numbers]\r\n",
                "    WHERE Number < 5\r\n",
                ")\r\n",
                "SELECT * FROM Numbers\r\n",
                "OPTION(maxrecursion 2)"
            ],
            "metadata": {
                "azdata_cell_guid": "71f5728e-c11a-4081-8fc1-b25c507e07b7",
                "tags": [
                    "hide_input"
                ]
            },
            "outputs": [],
            "execution_count": 23
        },
        {
            "cell_type": "markdown",
            "source": [
                "# Recursion - Tranversing a hierarchy\r\n",
                "Give all employees who report directly or indirectly to Andrew Fuller (employeeid=2)\r\n",
                ""
            ],
            "metadata": {
                "azdata_cell_guid": "92002bba-aa5e-4d1d-ae39-901a1439e80e"
            }
        },
        {
            "cell_type": "code",
            "source": [
                "USE xtreme;\r\n",
                "WITH Reports_to_Fuller AS \r\n",
                "(\r\n",
                "    SELECT \r\n",
                "     Employee.EmployeeID\r\n",
                "    ,Employee.FirstName\r\n",
                "    ,Employee.LastName\r\n",
                "    ,Employee.ReportsTo\r\n",
                "    FROM Employee\r\n",
                "    WHERE Employee.ReportsTo = 2\r\n",
                "\r\n",
                "    UNION ALL\r\n",
                "\r\n",
                "    SELECT \r\n",
                "     Employee.EmployeeID\r\n",
                "    ,Employee.FirstName\r\n",
                "    ,Employee.LastName\r\n",
                "    ,Employee.SupervisorID\r\n",
                "    FROM Employee\r\n",
                "        JOIN Reports_to_Fuller ON Reports_to_Fuller.EmployeeID = Employee.ReportsTo\r\n",
                ")\r\n",
                "SELECT * FROM Reports_to_Fuller"
            ],
            "metadata": {
                "azdata_cell_guid": "0ec6ae0a-b517-4f71-afae-95d2dd3d6ddc",
                "tags": [
                    "hide_input"
                ]
            },
            "outputs": [],
            "execution_count": 32
        }
    ]
}