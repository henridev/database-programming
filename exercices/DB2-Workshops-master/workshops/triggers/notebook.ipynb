{
    "metadata": {
        "kernelspec": {
            "name": "SQL",
            "display_name": "SQL",
            "language": "sql"
        },
        "language_info": {
            "name": "sql",
            "version": ""
        }
    },
    "nbformat_minor": 2,
    "nbformat": 4,
    "cells": [
        {
            "cell_type": "markdown",
            "source": [
                "# Triggers\r\n",
                "A trigger: a database program, consisting of procedural and declarative instructons, saved in the catalogue and activated by the DBMS if a certain operation on the database is executed and if a certain condition is satisfied.\r\n",
                "- Comparable to SP but can't be called explicitly\r\n",
                "- Automatically called by the DBMS on a certain action\r\n",
                "> In this course we'll focus on DML mutation triggers.\r\n",
                "\r\n",
                "## Activation\r\n",
                "- **`before`** – before the IUD is processed **(not supported by MS SQL Server)**\r\n",
                "- **`instead of`**  –  instead of IUD command\r\n",
                "- **`after`** – after the IUID is processed (but before COMMIT)\r\n",
                "    > `After`  is the default\r\n",
                "\r\n",
                "## Use cases \r\n",
                "- Validation of data and complex constraints\r\n",
                "    - An employee can't be assigned to > 10 projects\r\n",
                "    - An employee can only be assigned to a project that is assigned to his department\r\n",
                "- Automatic generation of values\r\n",
                "    - If an employee is assigned to a project the default value for the monthly bonus is set according to the project priority and his job category\r\n",
                "- Support for alerts\r\n",
                "    - Send automatic e-mail if an employee is removed from a project\r\n",
                "- Auditing\r\n",
                "    - Keep track of who did what on a certain table\r\n",
                "    - Replication and controlled update of redundant data\r\n",
                "    - Db xtreme: If an ordersdetail record changes, update the orderamount in the orders table\r\n",
                "    - Automatic update of datawarehouse tables for reporting (see \"Datawarehousing\")\r\n",
                "\r\n",
                "## Advantages\r\n",
                "- Store functionality in the DB and execute **consistently** with each change of data in the DB\r\n",
                "- no redundant code\r\n",
                "    - functionality is localised in a single spot, not scattered over different applications (desktop, web, mobile), written by different authors\r\n",
                "- written & tested 'once' by an experienced DBA\r\n",
                "- security\r\n",
                "    - triggers are in the DB so all security rules apply\r\n",
                "## Consequences\r\n",
                "- more processing power\r\n",
                "- fits into client-server model\r\n",
                "- 1 call to db-serve: al lot can happen without further communication\r\n",
                "\r\n",
                "## Drawbacks\r\n",
                "- complexity\r\n",
                "    - DB design, implementation are more complex by shifting functionality from application to DB\r\n",
                "    - Very difficult to debug\r\n",
                "- Hidden functionality\r\n",
                "    - The user can be confronted with unexpected side effects from the trigger, possibly unwanted\r\n",
                "    - Triggers can cascade, which is not always easy to predict when designing the trigger\r\n",
                "- Performance\r\n",
                "    - At each database change the triggers have to be reevaluated\r\n",
                "- Portability\r\n",
                "    - Restricted to the chosen database dialect (ex. Transact-SQL from MS)\r\n",
                "\r\n",
                "## Inner workings\r\n",
                "- 2 temporary tables\r\n",
                "- `deleted` table\r\n",
                "    - contains copies of updated and deleted rows\r\n",
                "    - During update or delete rows are moved from the triggering table to the deleted table\r\n",
                "    - Those two table have no rows in common\r\n",
                "\r\n",
                "- `inserted` table\r\n",
                "    - contains copies of updated or inserted rows\r\n",
                "    - During update or insert each affected row is copied from the triggering table to the inserted table\r\n",
                "    - All rows from the inserted table are also in the triggering table\r\n",
                "\r\n",
                "\r\n",
                "## Syntax\r\n",
                "```sql\r\n",
                "CREATE TRIGGER [Name of the trigger]\r\n",
                "ON table\r\n",
                "FOR [INSERT, UPDATE, DELETE]\r\n",
                "AS [Statement here]\r\n",
                "```\r\n",
                "\r\n",
                "## Example\r\n",
                "\r\n",
                "\r\n",
                "\r\n",
                ""
            ],
            "metadata": {
                "azdata_cell_guid": "f6019e74-74ca-4469-ae4a-68a3ac221bf6"
            }
        },
        {
            "cell_type": "markdown",
            "source": [
                "### Insert afrer-trigger"
            ],
            "metadata": {
                "azdata_cell_guid": "fdc89c6c-6660-4ecd-9662-48bb188b53c2"
            }
        },
        {
            "cell_type": "code",
            "source": [
                "USE TENNIS;\r\n",
                "CREATE TRIGGER tr_insert_player ON PLAYERS FOR INSERT\r\n",
                "AS\r\n",
                " INSERT INTO mutation (username, mut_timestamp, mut_pnr, mut_type, mut_pnr_new)\r\n",
                " SELECT user, getdate(), null, 'i', playerno FROM inserted\r\n",
                ""
            ],
            "metadata": {
                "azdata_cell_guid": "489c8412-f046-452f-9eae-39f24c253289"
            },
            "outputs": [],
            "execution_count": null
        },
        {
            "cell_type": "markdown",
            "source": [
                "- triggering instruction is an insert statement \r\n",
                "- `inserted` – logical table with columns equal to columns of triggering table, containing a copy of inserted rows\r\n",
                "> Remark: when triggering by INSERT-SELECT statement more than one record can be added at once. The trigger code is executed only once, \u000bbut will insert a mutation record for each inserted record\r\n",
                "\r\n",
                ""
            ],
            "metadata": {
                "azdata_cell_guid": "a10fba01-bb66-4101-91a7-e3230af3fd00"
            }
        },
        {
            "cell_type": "markdown",
            "source": [
                "### Delete after-trigger\r\n",
                "Before we continue with this trigger let's first create a Stored Procedure to re-use some logic."
            ],
            "metadata": {
                "azdata_cell_guid": "41eea7bc-d381-4939-b026-199f49d930ec"
            }
        },
        {
            "cell_type": "code",
            "source": [
                "CREATE PROCEDURE usp_mutation_insert\r\n",
                "  (@MPNR SMALLINT,\r\n",
                "   @MTYPE CHAR(1),\r\n",
                "   @MPNR_NEW SMALLINT) \r\n",
                "AS\r\n",
                "  INSERT INTO mutation \r\n",
                "  (username, mut_timestamp, mut_pnr,mut_type, mut_pnr_new) \r\n",
                "  VALUES (user, getdate(), @MPNR, @MTYPE, @MPNR_NEW);\r\n",
                ""
            ],
            "metadata": {
                "azdata_cell_guid": "e5ef394e-6381-4e1c-aa22-5461afb8855a"
            },
            "outputs": [],
            "execution_count": null
        },
        {
            "cell_type": "code",
            "source": [
                "CREATE TRIGGER  tr_delete_player\r\n",
                "ON players FOR DELETE\r\n",
                "AS\r\n",
                "    DECLARE @old_pnr smallint\r\n",
                "    DECLARE del_cursor CURSOR FOR SELECT playerno FROM deleted\r\n",
                "    OPEN del_cursor\r\n",
                "    FETCH NEXT FROM del_cursor INTO @old_pnr\r\n",
                "    WHILE @@FETCH_STATUS = 0\r\n",
                "    BEGIN\r\n",
                "        EXEC usp_mutation_insert @old_pnr,'D',null\r\n",
                "        FETCH NEXT FROM del_cursor INTO @old_pnr\r\n",
                "    END\r\n",
                "    CLOSE del_cursor\r\n",
                "    DEALLOCATE del_cursor\r\n",
                ""
            ],
            "metadata": {
                "azdata_cell_guid": "da44a9f4-29a8-4aa0-86b9-63cc6626f9ff"
            },
            "outputs": [],
            "execution_count": null
        },
        {
            "cell_type": "markdown",
            "source": [
                "Activation of the Trigger"
            ],
            "metadata": {
                "azdata_cell_guid": "d61b9756-5d16-4472-989a-7f91e77ee441"
            }
        },
        {
            "cell_type": "code",
            "source": [
                "DELETE FROM players WHERE playerno > 115;"
            ],
            "metadata": {
                "azdata_cell_guid": "19ec467f-3919-4615-be78-9d6639caac86"
            },
            "outputs": [],
            "execution_count": null
        },
        {
            "cell_type": "markdown",
            "source": [
                "### Update after-trigger"
            ],
            "metadata": {
                "azdata_cell_guid": "0d552a17-9b4b-4d3b-81ab-260c6c7f73a9"
            }
        },
        {
            "cell_type": "code",
            "source": [
                "CREATE TRIGGER  tr_update_player ON players FOR update\r\n",
                "AS\r\n",
                "DECLARE \r\n",
                " @old_pnr smallint\r\n",
                ",@new_pnr smallint\r\n",
                "\r\n",
                "DECLARE before_cursor CURSOR FOR SELECT playerno FROM DELETED  ORDER BY playerno\r\n",
                "DECLARE after_cursor  CURSOR FOR SELECT playerno FROM INSERTED ORDER BY playerno\r\n",
                "\r\n",
                "OPEN before_cursor\r\n",
                "OPEN after_cursor\r\n",
                "\r\n",
                "FETCH NEXT FROM before_cursor INTO @old_pnr\r\n",
                "FETCH NEXT FROM after_cursor  INTO @new_pnr\r\n",
                "\r\n",
                "WHILE @@FETCH_STATUS = 0\r\n",
                "BEGIN\r\n",
                "    EXEC usp_mutation_insert @old_pnr,'U',@new_pnr\r\n",
                "    FETCH NEXT FROM before_cursor INTO @old_pnr\r\n",
                "    FETCH NEXT FROM after_cursor  INTO @new_pnr\r\n",
                "END\r\n",
                "\r\n",
                "DEALLOCATE before_cursor\r\n",
                "DEALLOCATE after_cursor\r\n",
                ""
            ],
            "metadata": {
                "azdata_cell_guid": "41f19413-c83c-42a3-a5ea-82ac58b09cfb"
            },
            "outputs": [],
            "execution_count": null
        },
        {
            "cell_type": "markdown",
            "source": [
                "Activation of the Trigger"
            ],
            "metadata": {
                "azdata_cell_guid": "3f4f26c3-c3db-4874-850e-2c38814fae13"
            }
        },
        {
            "cell_type": "code",
            "source": [
                "update players set joined = joined + 20;\r\n",
                "\r\n",
                "-- OR:\r\n",
                "\r\n",
                " update players set playerno = playerno + 100;\r\n",
                ""
            ],
            "metadata": {
                "azdata_cell_guid": "53eabe6c-5d8e-4f57-b460-1e9b76678d54"
            },
            "outputs": [],
            "execution_count": null
        },
        {
            "cell_type": "markdown",
            "source": [
                "## Conditional execution of triggers\r\n",
                "Execute only if a specific column is mentioned in update or insert\r\n",
                ""
            ],
            "metadata": {
                "azdata_cell_guid": "f85c70e6-38f0-4302-9140-7e3c3e9869bf"
            }
        },
        {
            "cell_type": "code",
            "source": [
                "ALTER TRIGGER  update_player ON players FOR update\r\n",
                "AS\r\n",
                "DECLARE @old_pnr smallint, @new_pnr smallint\r\n",
                "\r\n",
                "DECLARE before_cursor CURSOR FOR SELECT playerno FROM deleted  ORDER BY playerno\r\n",
                "OPEN before_cursor\r\n",
                "IF update(playerno)\r\n",
                "BEGIN\r\n",
                "  DECLARE after_cursor CURSOR FOR SELECT playerno FROM inserted ORDER BY playerno\r\n",
                "  OPEN after_cursor\r\n",
                "END\r\n",
                "\r\n",
                "FETCH NEXT FROM before_cursor INTO @old_pnr\r\n",
                "IF update(playerno)\r\n",
                "  FETCH NEXT FROM after_cursor  INTO @new_pnr\r\n",
                "ELSE\r\n",
                "  SET @new_pnr = @old_pnr\r\n",
                "\r\n",
                "WHILE @@FETCH_STATUS = 0\r\n",
                "BEGIN\r\n",
                "  EXEC usp_mutation_insert @old_pnr,'U',@new_pnr\r\n",
                "  FETCH NEXT FROM before_cursor INTO @old_pnr\r\n",
                "  IF update(playerno)\r\n",
                "    FETCH NEXT FROM after_cursor  INTO @new_pnr\r\n",
                "  ELSE\r\n",
                "    SET @new_pnr = @old_pnr\r\n",
                "END\r\n",
                "\r\n",
                "DEALLOCATE before_cursor\r\n",
                "IF update(playerno)\r\n",
                "  DEALLOCATE after_cursor\r\n",
                ""
            ],
            "metadata": {
                "azdata_cell_guid": "2f0eae02-eb24-48e0-aff9-29a727b0278c"
            },
            "outputs": [],
            "execution_count": null
        },
        {
            "cell_type": "markdown",
            "source": [
                "# Triggers and transactions\r\n",
                "a trigger is part of the same transaction as the triggering instruction\r\n",
                "inside the trigger this transaction can be ROLLBACKed\r\n",
                "ex. a player who is team coach can never be deleted (suppose there are no foreign key constraints)\r\n",
                " although a trigger in SQL Server occurs after the triggering instruction, that instruction can still be undone in the trigger\r\n",
                ""
            ],
            "metadata": {
                "azdata_cell_guid": "0a368885-0e16-4507-91f1-5e2ef5437b45"
            }
        },
        {
            "cell_type": "code",
            "source": [
                "CREATE TRIGGER delplayer ON PLAYERS \r\n",
                "FOR delete \r\n",
                "AS \r\n",
                "IF (SELECT COUNT(*) \r\n",
                "    FROM deleted JOIN teams ON teams.playerno = deleted.playerno) > 0 \r\n",
                "BEGIN \r\n",
                "  ROLLBACK TRANSACTION\r\n",
                "  RAISERROR ('The player is team coach.', 14,1) \r\n",
                "END\r\n",
                ""
            ],
            "metadata": {
                "azdata_cell_guid": "cbe06aee-b7b9-446b-9b94-63fa78b2f507"
            },
            "outputs": [],
            "execution_count": null
        }
    ]
}