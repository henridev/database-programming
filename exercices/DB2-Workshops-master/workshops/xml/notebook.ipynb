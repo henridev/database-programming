{
    "metadata": {
        "kernelspec": {
            "name": "SQL",
            "display_name": "SQL",
            "language": "sql"
        },
        "language_info": {
            "name": "sql",
            "version": ""
        }
    },
    "nbformat_minor": 2,
    "nbformat": 4,
    "cells": [
        {
            "cell_type": "markdown",
            "source": "# Dataformats - XML\r\nWe'd like to exchange some data with another partner, the partner uses a NoSQL database provider and we don't know how his application stores the data internally. We agreed to use XML as data format.\r\n> You can only use JSON (which is quite common nowadays) by replacing the XML with JSON statements.",
            "metadata": {}
        },
        {
            "cell_type": "markdown",
            "source": "## Transforming our data\r\nFor of all we'd like to extract all our `products` to the partner in XML format.",
            "metadata": {}
        },
        {
            "cell_type": "code",
            "source": "SELECT TOP 3 * \r\nFROM Product\r\nFOR XML AUTO, TYPE",
            "metadata": {},
            "outputs": [
                {
                    "output_type": "display_data",
                    "data": {
                        "text/html": "(1 row affected)"
                    },
                    "metadata": {}
                },
                {
                    "output_type": "display_data",
                    "data": {
                        "text/html": "Total execution time: 00:00:00.0069617"
                    },
                    "metadata": {}
                },
                {
                    "output_type": "execute_result",
                    "execution_count": 10,
                    "data": {
                        "application/vnd.dataresource+json": {
                            "schema": {
                                "fields": [
                                    {
                                        "name": "(No column name)"
                                    }
                                ]
                            },
                            "data": [
                                {
                                    "0": "<Product ProductID=\"1101\" ProductName=\"Active Outdoors Crochet Glove\" Sizes=\"xsm\" Price=\"15.09\" ProductTypeID=\"5\" ProductClassID=\"1\" SupplierID=\"1\" ReorderLevel=\"300\" UnitsInStock=\"220\" /><Product ProductID=\"1102\" ProductName=\"Active Outdoors Crochet Glove\" Sizes=\"sm\" Price=\"15.09\" ProductTypeID=\"5\" ProductClassID=\"1\" SupplierID=\"1\" ReorderLevel=\"300\" UnitsInStock=\"450\" /><Product ProductID=\"1103\" ProductName=\"Active Outdoors Crochet Glove\" Sizes=\"med\" Price=\"15.09\" ProductTypeID=\"5\" ProductClassID=\"1\" SupplierID=\"1\" ReorderLevel=\"300\" />"
                                }
                            ]
                        },
                        "text/html": "<table><tr><th>(No column name)</th></tr><tr><td>&lt;Product ProductID=&quot;1101&quot; ProductName=&quot;Active Outdoors Crochet Glove&quot; Sizes=&quot;xsm&quot; Price=&quot;15.09&quot; ProductTypeID=&quot;5&quot; ProductClassID=&quot;1&quot; SupplierID=&quot;1&quot; ReorderLevel=&quot;300&quot; UnitsInStock=&quot;220&quot; /&gt;&lt;Product ProductID=&quot;1102&quot; ProductName=&quot;Active Outdoors Crochet Glove&quot; Sizes=&quot;sm&quot; Price=&quot;15.09&quot; ProductTypeID=&quot;5&quot; ProductClassID=&quot;1&quot; SupplierID=&quot;1&quot; ReorderLevel=&quot;300&quot; UnitsInStock=&quot;450&quot; /&gt;&lt;Product ProductID=&quot;1103&quot; ProductName=&quot;Active Outdoors Crochet Glove&quot; Sizes=&quot;med&quot; Price=&quot;15.09&quot; ProductTypeID=&quot;5&quot; ProductClassID=&quot;1&quot; SupplierID=&quot;1&quot; ReorderLevel=&quot;300&quot; /&gt;</td></tr></table>"
                    },
                    "metadata": {}
                }
            ],
            "execution_count": 10
        },
        {
            "cell_type": "markdown",
            "source": "## Manipulating our data\r\nTo manipulate our data we can just adjust the `SELECT` clause. We only like to share the `name`, `sizes` and `cost`",
            "metadata": {}
        },
        {
            "cell_type": "code",
            "source": "SELECT TOP 3 \r\n    ProductName AS Name,\r\n    Price AS Price,\r\n    Sizes AS Sizes\r\nFROM Product\r\nFOR XML AUTO",
            "metadata": {},
            "outputs": [
                {
                    "output_type": "display_data",
                    "data": {
                        "text/html": "(3 rows affected)"
                    },
                    "metadata": {}
                },
                {
                    "output_type": "display_data",
                    "data": {
                        "text/html": "Total execution time: 00:00:00.0034858"
                    },
                    "metadata": {}
                },
                {
                    "output_type": "execute_result",
                    "execution_count": 13,
                    "data": {
                        "application/vnd.dataresource+json": {
                            "schema": {
                                "fields": [
                                    {
                                        "name": "XML_F52E2B61-18A1-11d1-B105-00805F49916B"
                                    }
                                ]
                            },
                            "data": [
                                {
                                    "0": "<Product Name=\"Active Outdoors Crochet Glove\" Price=\"15.09\" Sizes=\"xsm\"/><Product Name=\"Active Outdoors Crochet Glove\" Price=\"15.09\" Sizes=\"sm\"/><Product Name=\"Active Outdoors Crochet Glove\" Price=\"15.09\" Sizes=\"med\"/>"
                                }
                            ]
                        },
                        "text/html": "<table><tr><th>XML_F52E2B61-18A1-11d1-B105-00805F49916B</th></tr><tr><td>&lt;Product Name=&quot;Active Outdoors Crochet Glove&quot; Price=&quot;15.09&quot; Sizes=&quot;xsm&quot;/&gt;&lt;Product Name=&quot;Active Outdoors Crochet Glove&quot; Price=&quot;15.09&quot; Sizes=&quot;sm&quot;/&gt;&lt;Product Name=&quot;Active Outdoors Crochet Glove&quot; Price=&quot;15.09&quot; Sizes=&quot;med&quot;/&gt;</td></tr></table>"
                    },
                    "metadata": {}
                }
            ],
            "execution_count": 13
        },
        {
            "cell_type": "markdown",
            "source": "# Joining our data\r\nThe partner would also like to know the `type` of the `products`, we can easily join the `ProductType` table.",
            "metadata": {}
        },
        {
            "cell_type": "code",
            "source": "SELECT TOP 3 \r\n    ProductName AS Name,\r\n    Price AS Price,\r\n    Sizes AS Sizes,\r\n    ProductTypeName AS Type\r\nFROM Product\r\nJOIN ProductType on ProductType.ProductTypeID = Product.ProductTypeID\r\nFOR XML AUTO",
            "metadata": {},
            "outputs": [
                {
                    "output_type": "display_data",
                    "data": {
                        "text/html": "(3 rows affected)"
                    },
                    "metadata": {}
                },
                {
                    "output_type": "display_data",
                    "data": {
                        "text/html": "Total execution time: 00:00:00.0084151"
                    },
                    "metadata": {}
                },
                {
                    "output_type": "execute_result",
                    "execution_count": 14,
                    "data": {
                        "application/vnd.dataresource+json": {
                            "schema": {
                                "fields": [
                                    {
                                        "name": "XML_F52E2B61-18A1-11d1-B105-00805F49916B"
                                    }
                                ]
                            },
                            "data": [
                                {
                                    "0": "<Product Name=\"Active Outdoors Crochet Glove\" Price=\"15.09\" Sizes=\"xsm\"><ProductType Type=\"Gloves\"/></Product><Product Name=\"Active Outdoors Crochet Glove\" Price=\"15.09\" Sizes=\"sm\"><ProductType Type=\"Gloves\"/></Product><Product Name=\"Active Outdoors Crochet Glove\" Price=\"15.09\" Sizes=\"med\"><ProductType Type=\"Gloves\"/></Product>"
                                }
                            ]
                        },
                        "text/html": "<table><tr><th>XML_F52E2B61-18A1-11d1-B105-00805F49916B</th></tr><tr><td>&lt;Product Name=&quot;Active Outdoors Crochet Glove&quot; Price=&quot;15.09&quot; Sizes=&quot;xsm&quot;&gt;&lt;ProductType Type=&quot;Gloves&quot;/&gt;&lt;/Product&gt;&lt;Product Name=&quot;Active Outdoors Crochet Glove&quot; Price=&quot;15.09&quot; Sizes=&quot;sm&quot;&gt;&lt;ProductType Type=&quot;Gloves&quot;/&gt;&lt;/Product&gt;&lt;Product Name=&quot;Active Outdoors Crochet Glove&quot; Price=&quot;15.09&quot; Sizes=&quot;med&quot;&gt;&lt;ProductType Type=&quot;Gloves&quot;/&gt;&lt;/Product&gt;</td></tr></table>"
                    },
                    "metadata": {}
                }
            ],
            "execution_count": 14
        },
        {
            "cell_type": "markdown",
            "source": "## Storing Data\r\nLet's say if we inverted the transaction, we'll be **receiving** XML data instead of sending it. You can easily create a XML data column in SQL Server or use variables to store information. ",
            "metadata": {}
        },
        {
            "cell_type": "code",
            "source": "DROP TABLE TestXmlTable;\r\n\r\nCREATE TABLE TestXmlTable(\r\n    Col1 INT PRIMARY KEY IDENTITY,\r\n    Col2 XML -- see what we did here?\r\n);\r\n",
            "metadata": {},
            "outputs": [
                {
                    "output_type": "display_data",
                    "data": {
                        "text/html": "Commands completed successfully."
                    },
                    "metadata": {}
                },
                {
                    "output_type": "display_data",
                    "data": {
                        "text/html": "Total execution time: 00:00:00.0054973"
                    },
                    "metadata": {}
                }
            ],
            "execution_count": 15
        },
        {
            "cell_type": "markdown",
            "source": "To insert data into the table we can create a variable or direct insert a XML string. Manipulating data is about the same so you'll get the idea.",
            "metadata": {}
        },
        {
            "cell_type": "code",
            "source": "-- Clear the table's data.\r\nDELETE FROM TestXmlTable;\r\n\r\n-- Assign a XML like string to a variable\r\nDECLARE @myString VARCHAR(100)   \r\nSET @myString = '<Cust><Fname>Andrew</Fname><Lname>Fuller</Lname></Cust>' \r\n\r\n-- Insert XML Data into the table\r\nINSERT INTO TestXmlTable(Col2)\r\nVALUES(@myString)\r\n\r\nSELECT * FROM TestXmlTable",
            "metadata": {},
            "outputs": [
                {
                    "output_type": "display_data",
                    "data": {
                        "text/html": "(0 rows affected)"
                    },
                    "metadata": {}
                },
                {
                    "output_type": "display_data",
                    "data": {
                        "text/html": "(1 row affected)"
                    },
                    "metadata": {}
                },
                {
                    "output_type": "display_data",
                    "data": {
                        "text/html": "(1 row affected)"
                    },
                    "metadata": {}
                },
                {
                    "output_type": "display_data",
                    "data": {
                        "text/html": "Total execution time: 00:00:00.0139253"
                    },
                    "metadata": {}
                },
                {
                    "output_type": "execute_result",
                    "execution_count": 16,
                    "data": {
                        "application/vnd.dataresource+json": {
                            "schema": {
                                "fields": [
                                    {
                                        "name": "Col1"
                                    },
                                    {
                                        "name": "Col2"
                                    }
                                ]
                            },
                            "data": [
                                {
                                    "0": "1",
                                    "1": "<Cust><Fname>Andrew</Fname><Lname>Fuller</Lname></Cust>"
                                }
                            ]
                        },
                        "text/html": "<table><tr><th>Col1</th><th>Col2</th></tr><tr><td>1</td><td>&lt;Cust&gt;&lt;Fname&gt;Andrew&lt;/Fname&gt;&lt;Lname&gt;Fuller&lt;/Lname&gt;&lt;/Cust&gt;</td></tr></table>"
                    },
                    "metadata": {}
                }
            ],
            "execution_count": 16
        },
        {
            "cell_type": "markdown",
            "source": "# Bulk Insert Data\r\nTo insert data by bulk we can use the `OPENROWSET()` statement\r\nThe following example shows how to insert a row in table `T1`. The value of the XML column is loaded from file `data\\xmlsample.xml` as BLOB.\r\n> It's required to have the file downloaded at the `C:\\temp\\data` location or change the relative path if needed.\r\n\r\nContents of the xmlsample.xml\r\n```xml\r\n<?xml version=\"1.0\" encoding=\"UTF-8\"?>  \r\n<Root>  \r\n    <ProductDescription ProductModelID=\"5\">  \r\n        <Summary>Some Text</Summary>  \r\n    </ProductDescription>  \r\n</Root> \r\n```",
            "metadata": {}
        },
        {
            "cell_type": "code",
            "source": "-- Clear the table's data.\r\nDELETE FROM TestXmlTable;\r\n\r\n-- Insert\r\nINSERT INTO TestXmlTable(Col2)\r\nSELECT * FROM OPENROWSET(  \r\n   BULK 'C:\\temp\\data\\xmlsample.xml',  \r\n   SINGLE_BLOB) as Col2;  \r\n\r\n-- Read the data.\r\nSELECT * FROM TestXmlTable",
            "metadata": {},
            "outputs": [
                {
                    "output_type": "display_data",
                    "data": {
                        "text/html": "(1 row affected)"
                    },
                    "metadata": {}
                },
                {
                    "output_type": "display_data",
                    "data": {
                        "text/html": "(1 row affected)"
                    },
                    "metadata": {}
                },
                {
                    "output_type": "display_data",
                    "data": {
                        "text/html": "(1 row affected)"
                    },
                    "metadata": {}
                },
                {
                    "output_type": "display_data",
                    "data": {
                        "text/html": "Total execution time: 00:00:00.0241637"
                    },
                    "metadata": {}
                },
                {
                    "output_type": "execute_result",
                    "execution_count": 17,
                    "data": {
                        "application/vnd.dataresource+json": {
                            "schema": {
                                "fields": [
                                    {
                                        "name": "Col1"
                                    },
                                    {
                                        "name": "Col2"
                                    }
                                ]
                            },
                            "data": [
                                {
                                    "0": "2",
                                    "1": "<Root><ProductDescription ProductModelID=\"5\"><Summary>Some Text</Summary></ProductDescription></Root>"
                                }
                            ]
                        },
                        "text/html": "<table><tr><th>Col1</th><th>Col2</th></tr><tr><td>2</td><td>&lt;Root&gt;&lt;ProductDescription ProductModelID=&quot;5&quot;&gt;&lt;Summary&gt;Some Text&lt;/Summary&gt;&lt;/ProductDescription&gt;&lt;/Root&gt;</td></tr></table>"
                    },
                    "metadata": {}
                }
            ],
            "execution_count": 17
        },
        {
            "cell_type": "markdown",
            "source": "# Reading XML columns with `xQuery`\r\nLet's state that we only want to see the `<Summary>` of a product, we can do so using `XQuery`.",
            "metadata": {}
        },
        {
            "cell_type": "code",
            "source": "SELECT Col2.query('/Root/ProductDescription/Summary') \r\nFROM TestXmlTable",
            "metadata": {},
            "outputs": [
                {
                    "output_type": "display_data",
                    "data": {
                        "text/html": "(1 row affected)"
                    },
                    "metadata": {}
                },
                {
                    "output_type": "display_data",
                    "data": {
                        "text/html": "Total execution time: 00:00:00.0066405"
                    },
                    "metadata": {}
                },
                {
                    "output_type": "execute_result",
                    "execution_count": 18,
                    "data": {
                        "application/vnd.dataresource+json": {
                            "schema": {
                                "fields": [
                                    {
                                        "name": "(No column name)"
                                    }
                                ]
                            },
                            "data": [
                                {
                                    "0": "<Summary>Some Text</Summary>"
                                }
                            ]
                        },
                        "text/html": "<table><tr><th>(No column name)</th></tr><tr><td>&lt;Summary&gt;Some Text&lt;/Summary&gt;</td></tr></table>"
                    },
                    "metadata": {}
                }
            ],
            "execution_count": 18
        },
        {
            "cell_type": "markdown",
            "source": "# Printing XML Data with xQuery\r\n",
            "metadata": {}
        },
        {
            "cell_type": "code",
            "source": "DECLARE @myXML XML;\r\n\r\nSET @myXML = \r\n            (SELECT TOP 3 \r\n                ProductID,\r\n                ProductName\r\n            FROM Product\r\n            FOR XML AUTO, ELEMENTS, TYPE);\r\n\r\n--PRINT CONVERT(NVARCHAR(MAX),@myVar.query('/Product')) -- Not allowed in a PRINT Statement since .query is seen as a subquery\r\n\r\nDECLARE @myData VARCHAR(MAX);\r\n\r\nSET @myData = @myXML.value('/Product[1]','NVARCHAR(MAX)')\r\n\r\nPRINT @myData;\r\n\r\n",
            "metadata": {},
            "outputs": [
                {
                    "output_type": "display_data",
                    "data": {
                        "text/html": "1101Active Outdoors Crochet Glove"
                    },
                    "metadata": {}
                },
                {
                    "output_type": "display_data",
                    "data": {
                        "text/html": "Total execution time: 00:00:00.0037104"
                    },
                    "metadata": {}
                }
            ],
            "execution_count": 19
        }
    ]
}